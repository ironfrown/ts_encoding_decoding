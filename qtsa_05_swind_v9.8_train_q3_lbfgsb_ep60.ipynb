{
 "cells": [
  {
   "cell_type": "markdown",
   "id": "86bde612-c689-473e-ada1-957ecc437dfa",
   "metadata": {},
   "source": [
    "# Quantum Time Series Analysis: Overloading SW QTSA Model\n",
    "Compatible with Qiskit 1.2.4+"
   ]
  },
  {
   "cell_type": "markdown",
   "id": "121cde23-32ce-4a9d-993f-7ebaf6bbb67d",
   "metadata": {},
   "source": [
    "### Author\n",
    "- October 2022: Prepared for Workshop on Quantum Machine Learning, 13 October 2022, organised in collaboration with QWorld, QPoland, QIndia and Quantum AI Foundation. In association with IEEE Conference Trends in Quantum Computing and Emerging Business Technologies - TQCEBT 2022\n",
    "- May 2024: Compatibility upgrade to Qiskit 1.2.4+ \n",
    "\n",
    "### Aims\n",
    "> *This script aims to fit time series data with quantum neural network.*\n",
    "\n",
    "### Note\n",
    "> *<font color=\"tomato\">When running this script, you are likely to obtain slightly different results each time.</font>*\n",
    "\n",
    "### Primary Sources\n",
    "- Schreiber, Amelie. “Quantum Neural Networks for FinTech.” \n",
    "    Medium, May 8, 2020.<br/> \n",
    "    https://towardsdatascience.com/quantum-neural-networks-for-fintech-dddc6ac68dbf\n",
    "- Qiskit Team. \"Tutorial: Neural Network Classifier & Regressor\", Last updated: 31 Aug 2022.<br/>\n",
    "    https://qiskit.org/documentation/machine-learning/tutorials/02_neural_network_classifier_and_regressor.html"
   ]
  },
  {
   "cell_type": "code",
   "execution_count": 1,
   "id": "124b4670-91bf-4c9d-9f97-714b9e113293",
   "metadata": {},
   "outputs": [
    {
     "data": {
      "text/plain": [
       "['/home/jacob/miniconda3/envs/qiskit-gpu/lib/python311.zip',\n",
       " '/home/jacob/miniconda3/envs/qiskit-gpu/lib/python3.11',\n",
       " '/home/jacob/miniconda3/envs/qiskit-gpu/lib/python3.11/lib-dynload',\n",
       " '',\n",
       " '/home/jacob/miniconda3/envs/qiskit-gpu/lib/python3.11/site-packages',\n",
       " '.']"
      ]
     },
     "execution_count": 1,
     "metadata": {},
     "output_type": "execute_result"
    }
   ],
   "source": [
    "import sys\n",
    "sys.path.append('.')\n",
    "sys.path"
   ]
  },
  {
   "cell_type": "code",
   "execution_count": 2,
   "id": "eac3f16e-bd82-4c4b-9c74-4949df37d854",
   "metadata": {},
   "outputs": [],
   "source": [
    "import os\n",
    "import numpy as np\n",
    "import pylab\n",
    "import math\n",
    "import json\n",
    "import time\n",
    "from tqdm.notebook import tqdm\n",
    "\n",
    "from IPython.display import clear_output\n",
    "\n",
    "from utils.Target import *\n",
    "from utils.Window import *\n",
    "from utils.TS import *\n",
    "from utils.Charts import *\n",
    "from utils.Files import *\n",
    "from utils.Cost import *\n",
    "from utils.Metrics import *\n",
    "\n",
    "import matplotlib.pyplot as plt\n",
    "from matplotlib import set_loglevel\n",
    "set_loglevel(\"error\")\n",
    "%matplotlib inline\n",
    "\n",
    "import warnings\n",
    "warnings.filterwarnings(\"ignore\", category=DeprecationWarning) \n",
    "warnings.filterwarnings(\"ignore\", category=UserWarning)"
   ]
  },
  {
   "cell_type": "code",
   "execution_count": 3,
   "id": "d131670f-cf5b-4021-b9bc-a94372b91386",
   "metadata": {},
   "outputs": [],
   "source": [
    "### Libraries used in QTSA development\n",
    "\n",
    "from IPython.display import clear_output\n",
    "from qiskit import ClassicalRegister, QuantumRegister, QuantumCircuit\n",
    "from qiskit_algorithms.optimizers import L_BFGS_B, P_BFGS, COBYLA, NELDER_MEAD, QNSPSA, ADAM, UMDA\n",
    "from qiskit.circuit.library import RealAmplitudes, TwoLocal, ZFeatureMap, ZZFeatureMap,EfficientSU2, PauliFeatureMap\n",
    "from qiskit.quantum_info import Statevector, SparsePauliOp\n",
    "from qiskit_algorithms.utils import algorithm_globals\n",
    "from qiskit.visualization import plot_histogram, plot_state_city, plot_state_paulivec\n",
    "from qiskit_machine_learning.neural_networks import SamplerQNN, EstimatorQNN\n",
    "from qiskit_machine_learning.algorithms.regressors import NeuralNetworkRegressor, VQR\n",
    "from qiskit_machine_learning.utils.loss_functions import L1Loss, L2Loss\n",
    "from qiskit.circuit import Parameter\n",
    "from qiskit.compiler import transpile\n",
    "\n",
    "from sklearn.metrics import r2_score, mean_absolute_percentage_error "
   ]
  },
  {
   "cell_type": "code",
   "execution_count": 4,
   "id": "da467e4e-768d-42bd-839b-161c141417ac",
   "metadata": {},
   "outputs": [
    {
     "data": {
      "text/plain": [
       "('log_2',\n",
       " 'sliding',\n",
       " '2_sins_sw',\n",
       " 'log_2/data',\n",
       " 'log_2/training',\n",
       " 'log_2/params',\n",
       " 'log_2/analysis',\n",
       " 'log_2/figures')"
      ]
     },
     "execution_count": 4,
     "metadata": {},
     "output_type": "execute_result"
    }
   ],
   "source": [
    "### Listing control\n",
    "debug = True\n",
    "seed = 2022\n",
    "\n",
    "### Software version\n",
    "MAJOR = 9\n",
    "MINOR = 0\n",
    "\n",
    "### Constants\n",
    "LOG_NAME = 'log_2'\n",
    "CASE_NAME = 'sliding'\n",
    "DATA_NAME = '2_sins_sw'\n",
    "DATA_PATH = f'{LOG_NAME}/data'\n",
    "TRAIN_PATH = f'{LOG_NAME}/training'\n",
    "PARAMS_PATH = f'{LOG_NAME}/params'\n",
    "ANALYSIS_PATH = f'{LOG_NAME}/analysis'\n",
    "FIGURES_PATH = f'{LOG_NAME}/figures'\n",
    "\n",
    "### Show constants\n",
    "(LOG_NAME, CASE_NAME, DATA_NAME,DATA_PATH, TRAIN_PATH, PARAMS_PATH, ANALYSIS_PATH, FIGURES_PATH)"
   ]
  },
  {
   "cell_type": "markdown",
   "id": "5ca8e124-163b-4ddb-8846-26d7348af428",
   "metadata": {},
   "source": [
    "## Fetch data"
   ]
  },
  {
   "cell_type": "code",
   "execution_count": 5,
   "id": "f005f8be-71f9-4f5a-a317-14721e8fa30c",
   "metadata": {},
   "outputs": [
    {
     "data": {
      "text/plain": [
       "'log_2/data/2_sins_sw_t50_v20_z0_w5_s1_h1/info.json'"
      ]
     },
     "execution_count": 5,
     "metadata": {},
     "output_type": "execute_result"
    }
   ],
   "source": [
    "### All created files have the following codes:\n",
    "DATA_ID = '2_sins_sw_t50_v20_z0_w5_s1_h1'\n",
    "\n",
    "### Define file names\n",
    "\n",
    "x_all_fpath = f'{DATA_PATH}/{DATA_ID}/x_all.arr'\n",
    "y_all_fpath = f'{DATA_PATH}/{DATA_ID}/y_all.arr'\n",
    "\n",
    "x_train_ts_fpath = f'{DATA_PATH}/{DATA_ID}/x_train_ts.arr'\n",
    "y_train_ts_fpath = f'{DATA_PATH}/{DATA_ID}/y_train_ts.arr'\n",
    "x_valid_ts_fpath = f'{DATA_PATH}/{DATA_ID}/x_valid_ts.arr'\n",
    "y_valid_ts_fpath = f'{DATA_PATH}/{DATA_ID}/y_valid_ts.arr'\n",
    "\n",
    "data_info_fpath = f'{DATA_PATH}/{DATA_ID}/info.json'\n",
    "data_info_fpath"
   ]
  },
  {
   "cell_type": "code",
   "execution_count": 6,
   "id": "0c25aa0a-8dba-4ad0-9e85-44f3574e5fcf",
   "metadata": {},
   "outputs": [
    {
     "name": "stdout",
     "output_type": "stream",
     "text": [
      "\n",
      "Saved time series info in file \"log_2/data/2_sins_sw_t50_v20_z0_w5_s1_h1/info.json\":\n",
      "\n",
      "\tinfo[data_name] = 2_sins_sw\n",
      "\tinfo[major_version] = 9\n",
      "\tinfo[minor_version] = 0\n",
      "\tinfo[data_train] = 50\n",
      "\tinfo[data_valid] = 20\n",
      "\tinfo[data_noise] = 0\n",
      "\tinfo[wind_size] = 5\n",
      "\tinfo[wind_step] = 1\n",
      "\tinfo[wind_horizon] = 1\n",
      "\tinfo[seed] = 2022\n",
      "\n",
      "\tcalc[samples] = 70\n",
      "\tcalc[train_pc] = 0.7142857142857143\n",
      "\n"
     ]
    }
   ],
   "source": [
    "### Load the info file\n",
    "data_info = read_json_file(data_info_fpath)\n",
    "    \n",
    "### Get info details\n",
    "DATA_NAME = data_info['data_name']\n",
    "DATA_MAJOR = data_info['major_version'] \n",
    "DATA_MINOR = data_info['minor_version']\n",
    "samples_train = data_info['data_train']\n",
    "samples_valid = data_info['data_valid']\n",
    "noise = data_info['data_noise']\n",
    "wind_size = data_info['wind_size']\n",
    "wind_step = data_info['wind_step']\n",
    "horizon = data_info['wind_horizon']\n",
    "seed = data_info['seed']\n",
    "samples = samples_train + samples_valid\n",
    "train_pc = samples_train / samples\n",
    "\n",
    "print(f'\\nSaved time series info in file \"{data_info_fpath}\":\\n')\n",
    "for k in data_info.keys():\n",
    "    print(f'\\tinfo[{k}] = {data_info[k]}')\n",
    "print()\n",
    "print(f'\\tcalc[samples] = {samples}')\n",
    "print(f'\\tcalc[train_pc] = {train_pc}')\n",
    "print()"
   ]
  },
  {
   "cell_type": "code",
   "execution_count": 7,
   "id": "4871030e-b67b-493c-b877-b39a9fb08e96",
   "metadata": {},
   "outputs": [
    {
     "name": "stdout",
     "output_type": "stream",
     "text": [
      "\n",
      "Loaded time series data\n",
      "\n"
     ]
    }
   ],
   "source": [
    "### Load data files\n",
    "X_all = read_ts_file(x_all_fpath)[..., None]\n",
    "y_all = read_ts_file(y_all_fpath)\n",
    "X_train_ts = read_ts_file(x_train_ts_fpath)\n",
    "y_train_ts = read_ts_file(y_train_ts_fpath)[..., None]\n",
    "X_valid_ts = read_ts_file(x_valid_ts_fpath)\n",
    "y_valid_ts = read_ts_file(y_valid_ts_fpath)[..., None]\n",
    "print(f'\\nLoaded time series data\\n')"
   ]
  },
  {
   "cell_type": "markdown",
   "id": "0e8994a6-a141-4a03-9184-762f20613cba",
   "metadata": {},
   "source": [
    "## Overloading Sliding Windows QTSA Qiskit Solution"
   ]
  },
  {
   "cell_type": "markdown",
   "id": "1c038b09-746d-4c8d-9392-1ffc9182e166",
   "metadata": {},
   "source": [
    "### Identify device"
   ]
  },
  {
   "cell_type": "code",
   "execution_count": 9,
   "id": "1b203715-da1f-473d-9f93-051fa75b6eae",
   "metadata": {},
   "outputs": [
    {
     "name": "stdout",
     "output_type": "stream",
     "text": [
      "Available quantum devices: ('CPU', 'GPU')\n",
      "Selected device: CPU\n"
     ]
    }
   ],
   "source": [
    "### Find what devices are available\n",
    "from qiskit_aer import Aer\n",
    "from qiskit_aer.backends import AerSimulator\n",
    "devices = AerSimulator().available_devices()\n",
    "print(f'Available quantum devices: {devices}')\n",
    "\n",
    "### Priority GPU\n",
    "device = 'GPU' if ('GPU' in devices) else 'CPU'\n",
    "\n",
    "### Force CPU for this run\n",
    "device = 'CPU'\n",
    "device\n",
    "print(f'Selected device: {device}')"
   ]
  },
  {
   "cell_type": "code",
   "execution_count": 10,
   "id": "a8c27bba-7403-403e-b7fb-33a42562cbf7",
   "metadata": {},
   "outputs": [],
   "source": [
    "### Create a sampler/estimator suitable for the device\n",
    "#   GPU methods: statevector, tensor_network, density_matrix, unitary\n",
    "\n",
    "from qiskit.primitives import Sampler, Estimator # For \"CPU\", ignores device=\"GPU\" option\n",
    "from qiskit_aer.primitives import Sampler as AerSampler, Estimator as AerEstimator # For device=\"GPU\" option\n",
    "\n",
    "seed = 2022\n",
    "shots = 10000\n",
    "\n",
    "if device == 'GPU':\n",
    "    sampler = AerSampler(\n",
    "        backend_options={'seed_simulator': seed, 'method': 'statevector', \n",
    "                         'device' : device, 'cuStateVec_enable' : True},\n",
    "        run_options={'seed': seed, 'shots': shots},\n",
    "        transpile_options={'seed_transpiler': seed},\n",
    "    )\n",
    "    \n",
    "    estimator = AerEstimator(\n",
    "        backend_options={'seed_simulator': seed, 'method': 'statevector', \n",
    "                         'device' : device, 'cuStateVec_enable' : True},\n",
    "        run_options={'seed': seed, 'shots': shots},\n",
    "        transpile_options={'seed_transpiler': seed},\n",
    "    )\n",
    "else:\n",
    "    sampler = Sampler()\n",
    "    estimator = Estimator()"
   ]
  },
  {
   "cell_type": "markdown",
   "id": "c16e5674-a0aa-46d0-8922-7d47be9dcaf3",
   "metadata": {},
   "source": [
    "### Sliding window ansatz"
   ]
  },
  {
   "cell_type": "code",
   "execution_count": 11,
   "id": "b49095d9-ef3b-4399-9116-77dc0619bfce",
   "metadata": {},
   "outputs": [
    {
     "name": "stdout",
     "output_type": "stream",
     "text": [
      "\n",
      "Input params#: 15, Weight params#: 90, Layer#: x2 * i2 = 4\n",
      "\n"
     ]
    },
    {
     "data": {
      "image/png": "[encoded data removed]",
      "text/plain": [
       "<Figure size 6437.98x367.889 with 1 Axes>"
      ]
     },
     "metadata": {},
     "output_type": "display_data"
    }
   ],
   "source": [
    "### Serial sliding window ansatz\n",
    "#   - To be used with CircuitQNN / NeuralNetworkRegressor\n",
    "#\n",
    "#   inputs\n",
    "#     qubit_no: The number of qubits in the circuit\n",
    "#     input_no: The number of input values / the size of a sliding window\n",
    "#     xlayers: The number of \"external\" ansatz layers\n",
    "#     add_meas: If true measurements will be added\n",
    "#     ent: Types of entanglements to be used\n",
    "#\n",
    "#   returns\n",
    "#     Circuit: The serial sliding window ansatz \n",
    "#     SParams: The list of parameters used in all S blocks\n",
    "#     WParams: The list of parameters used in all W blocks\n",
    "#     Layers: The calculated number of \"internal\" layers in the circuit\n",
    "\n",
    "def swindow_serial_model(qubit_no, input_no, xlayers=1, add_meas=False, ent='circular'):\n",
    "\n",
    "    SLabel = 'X'\n",
    "    WLabel = 'W'\n",
    "    \n",
    "    ilayers = input_no // qubit_no + (0 if input_no % qubit_no == 0 else 1)\n",
    "    used_sgates = 0\n",
    "\n",
    "    # Predefined all S parameters\n",
    "    SParams = []\n",
    "    for q in range(input_no):\n",
    "        param_x = Parameter(f'{SLabel}[{q:03d}]')\n",
    "        SParams.append(param_x)\n",
    "\n",
    "    ### Create an ansatz\n",
    "    qr = QuantumRegister(qubit_no, 'data')\n",
    "    ansatz = QuantumCircuit(qr, name='ansatz')\n",
    "    WParams = []\n",
    "\n",
    "    # Data-encoding circuit block, packs different input vars\n",
    "    def SN(qubit_no):\n",
    "        nonlocal used_sgates, SParams\n",
    "        s_qr = QuantumRegister(qubit_no)\n",
    "        s_ansatz = QuantumCircuit(s_qr, name='SSM')\n",
    "        for q in range(qubit_no):\n",
    "            param_x = SParams[q] if used_sgates < input_no else 0\n",
    "            s_ansatz.rx(param_x, q)\n",
    "            used_sgates += 1\n",
    "        return s_ansatz\n",
    "\n",
    "    # Trainable circuit block\n",
    "    def W(qubit_no, label):\n",
    "        w_qr = QuantumRegister(qubit_no)\n",
    "        w_ansatz = QuantumCircuit(w_qr, name='W')\n",
    "        w_ansatz.append(\n",
    "            TwoLocal(qubit_no, ['rx', 'ry', 'rz'], 'cx', \n",
    "                     entanglement=ent,\n",
    "                     reps=1, \n",
    "                     parameter_prefix=label, \n",
    "                     insert_barriers=True,\n",
    "                     skip_final_rotation_layer=False),\n",
    "            qargs=w_qr)\n",
    "        return w_ansatz\n",
    "\n",
    "    used_wlayers = 0\n",
    "    for xl in range(xlayers):\n",
    "        used_sgates = 0\n",
    "        \n",
    "        for il in range(ilayers):\n",
    "            W1 = W(qubit_no, f'W_{used_wlayers:02d}')\n",
    "            used_wlayers += 1\n",
    "            WParams = WParams + W1.parameters[:]\n",
    "            ansatz.append(W1, qargs=qr)\n",
    "            ansatz.barrier()\n",
    "            SX = SN(qubit_no) # , 'X'+str(il))\n",
    "            SParams = SParams + SX.parameters[:]\n",
    "            ansatz.append(SX, qargs=qr)\n",
    "            ansatz.barrier()\n",
    "    \n",
    "        if xl == xlayers-1:\n",
    "            W1 = W(qubit_no, f'W_{used_wlayers:02d}')  \n",
    "            used_wlayers += 1\n",
    "            WParams = WParams + W1.parameters[:]\n",
    "            ansatz.append(W1, qargs=qr)\n",
    "\n",
    "    if add_meas:\n",
    "        ansatz.measure_all()\n",
    "\n",
    "    return ansatz.decompose().decompose().decompose(), SParams, WParams, ilayers\n",
    "\n",
    "# Test a sample serial ansatz\n",
    "qubits_no = 3; input_no = 5; xlayers = 2\n",
    "m, input_params, weight_params, ilayers = swindow_serial_model(qubits_no, input_no, xlayers, ent='full', add_meas=True)\n",
    "\n",
    "# print(f'Layers: {ilayers}\\nParams: {m.parameters}\\n')\n",
    "# print('Input params:\\n', input_params)\n",
    "# print('\\nWeight params:\\n', weight_params)\n",
    "print(f'\\nInput params#: {len(input_params)}, Weight params#: {len(weight_params)}, Layer#: x{xlayers} * i{ilayers} = {xlayers*ilayers}')\n",
    "\n",
    "m.draw(output='mpl', style='clifford', fold=False, scale=1)\n",
    "print()"
   ]
  },
  {
   "cell_type": "markdown",
   "id": "56885fd4-489e-446d-b3d4-79f9f8d9c930",
   "metadata": {},
   "source": [
    "## Create and train the model"
   ]
  },
  {
   "cell_type": "code",
   "execution_count": null,
   "id": "25548d20-d9c7-4808-b5e2-0a9a500b4455",
   "metadata": {},
   "outputs": [],
   "source": [
    "# Define model parameters and their initial values (including random input)\n",
    "\n",
    "epochs = 60\n",
    "log_interval = 1\n",
    "prompt_interval = 3\n",
    "qubits = 3\n",
    "inputs = X_train_ts.shape[1]\n",
    "xlayers = 2\n",
    "ent = 'circular'"
   ]
  },
  {
   "cell_type": "code",
   "execution_count": 32,
   "id": "21f8f371-aa5e-4b64-8259-a720364959ef",
   "metadata": {},
   "outputs": [],
   "source": [
    "### Utility\n",
    "\n",
    "# Define output interpretations (sampler)\n",
    "output_shape = 2\n",
    "parity = lambda x: \"{:b}\".format(x).count(\"1\") % 2\n",
    "first_only = lambda x: x % 2\n",
    "identity_interpret = lambda x: x\n",
    "\n",
    "# Define observables (estimator)\n",
    "op = SparsePauliOp.from_list([(\"Z\" * qubits, 1)]) \n",
    "op1 = SparsePauliOp.from_list([(\"I\" * qubits, 0.5), (\"Z\" * qubits, 0.5)])\n",
    "op2 = SparsePauliOp.from_list([(\"I\" * qubits, 0.5), (\"Z\" * qubits, -0.5)])"
   ]
  },
  {
   "cell_type": "code",
   "execution_count": 34,
   "id": "b2962428-ffc8-4548-9447-8704d40a93eb",
   "metadata": {},
   "outputs": [],
   "source": [
    "### Create a model\n",
    "\n",
    "model, input_params, weight_params, ilayers = \\\n",
    "        swindow_serial_model(qubits, inputs, xlayers, ent=ent)\n",
    "init_weights = 2 * np.pi * algorithm_globals.random.random(model.num_parameters-inputs)"
   ]
  },
  {
   "cell_type": "code",
   "execution_count": 37,
   "id": "6e1fd95f-aa0d-4e42-b15a-798cfb9c6193",
   "metadata": {},
   "outputs": [
    {
     "name": "stdout",
     "output_type": "stream",
     "text": [
      "Window size=5, Horizon=1, Qubits=3, Layers=(x:2, i:2)\n",
      "\n"
     ]
    },
    {
     "data": {
      "application/vnd.jupyter.widget-view+json": {
       "model_id": "82004b26006c47129e8cf2cb7dfdcc2c",
       "version_major": 2,
       "version_minor": 0
      },
      "text/plain": [
       "SW QTSA training epoch:   0%|          | 0/60 [00:00<?, ?it/s]"
      ]
     },
     "metadata": {},
     "output_type": "display_data"
    }
   ],
   "source": [
    "### Define a regressor\n",
    "\n",
    "# Start random process\n",
    "algorithm_globals.random_seed = seed\n",
    "np.random.seed(seed)\n",
    "\n",
    "# Construct SWSM and show its circuit\n",
    "regr_qnn = EstimatorQNN(\n",
    "    circuit=model,\n",
    "    input_params=model.parameters[:inputs],\n",
    "    weight_params=model.parameters[inputs:],\n",
    "    observables=op, # [op1, op2],\n",
    "    estimator=estimator\n",
    ")\n",
    "\n",
    "print(f'Window size={wind_size}, Horizon={horizon}, Qubits={qubits}, Layers=(x:{xlayers}, i:{ilayers})\\n')\n",
    "\n",
    "### Define a regressor\n",
    "algorithm_globals.random_seed = 2022\n",
    "np.random.seed(seed)\n",
    "\n",
    "# Recommended optimizers and their parameters:  \n",
    "#   COBYLA() # COBYLA(maxiter=300) # COBYLA(maxiter=500) - very fast\n",
    "#   NELDER_MEAD() # NELDER_MEAD(maxiter=100) # NELDER_MEAD(maxiter=500) - slower\n",
    "#   L_BFGS_B() # L_BFGS_B(maxiter=10) # L_BFGS_B(maxiter=16) - slowwweeer\n",
    "# Not recommended: \n",
    "#   ADAM(maxiter=100) - slow/no callbacks\n",
    "#   UMDA(maxiter=200) - slow/incorrect callbacks\n",
    "\n",
    "loss_fun = L2Loss() # L1Loss() # \n",
    "loss_fun_name = 'L2Loss' # 'L1Loss' # \n",
    "\n",
    "optimizer = L_BFGS_B(maxiter=epochs) # COBYLA(maxiter=epochs) # Previously 50\n",
    "progress_bar = tqdm(total=epochs, desc='SW QTSA training epoch: ')\n",
    "regr_callback = Regr_callback(log_interval=log_interval, prompt_interval=prompt_interval, tqdm_progress=progress_bar)\n",
    "\n",
    "regressor = NeuralNetworkRegressor(\n",
    "    neural_network=regr_qnn,\n",
    "    loss=loss_fun,\n",
    "    optimizer=optimizer, \n",
    "    initial_point=init_weights, \n",
    "    # callback=regr_callback.objfun_graph\n",
    "    callback=regr_callback.objfun_print\n",
    ")"
   ]
  },
  {
   "cell_type": "code",
   "execution_count": 38,
   "id": "c716d18c-9166-489e-8020-cb984d3ffe1a",
   "metadata": {},
   "outputs": [
    {
     "name": "stdout",
     "output_type": "stream",
     "text": [
      "\n",
      "Optimum model calculation\n",
      "\n",
      "Results:   epoch=    3, min cost / real=0.02690 / logged=0.02690   @     1\n",
      "Results:   epoch=    6, min cost / real=0.01680 / logged=0.01680   @     5\n",
      "Results:   epoch=    9, min cost / real=0.01380 / logged=0.01380   @     8\n",
      "Results:   epoch=   12, min cost / real=0.01100 / logged=0.01100   @    11\n",
      "Results:   epoch=   15, min cost / real=0.00890 / logged=0.00890   @    14\n",
      "Results:   epoch=   18, min cost / real=0.00720 / logged=0.00720   @    17\n",
      "Results:   epoch=   21, min cost / real=0.00610 / logged=0.00610   @    20\n",
      "Results:   epoch=   24, min cost / real=0.00580 / logged=0.00580   @    23\n",
      "Results:   epoch=   27, min cost / real=0.00570 / logged=0.00570   @    26\n",
      "Results:   epoch=   30, min cost / real=0.00550 / logged=0.00550   @    29\n",
      "Results:   epoch=   33, min cost / real=0.00550 / logged=0.00550   @    32\n",
      "Results:   epoch=   36, min cost / real=0.00540 / logged=0.00540   @    34\n",
      "Results:   epoch=   39, min cost / real=0.00530 / logged=0.00530   @    38\n",
      "Results:   epoch=   42, min cost / real=0.00520 / logged=0.00520   @    41\n",
      "Results:   epoch=   45, min cost / real=0.00520 / logged=0.00520   @    44\n",
      "Results:   epoch=   48, min cost / real=0.00520 / logged=0.00520   @    47\n",
      "Results:   epoch=   51, min cost / real=0.00510 / logged=0.00510   @    49\n",
      "Results:   epoch=   54, min cost / real=0.00510 / logged=0.00510   @    53\n",
      "Results:   epoch=   57, min cost / real=0.00510 / logged=0.00510   @    56\n",
      "Results:   epoch=   60, min cost / real=0.00510 / logged=0.00510   @    59\n",
      "Results:   epoch=   63, min cost / real=0.00510 / logged=0.00510   @    62\n",
      "Results:   epoch=   66, min cost / real=0.00500 / logged=0.00500   @    65\n",
      "Optimum objective value: 0.005 @ 67 (time=1784.0 secs)\n"
     ]
    }
   ],
   "source": [
    "### Train the model\n",
    "\n",
    "# Start random process\n",
    "algorithm_globals.random_seed = seed\n",
    "np.random.seed(seed)\n",
    "\n",
    "# Fit to data and plot progress\n",
    "print(f'\\nOptimum model calculation\\n')\n",
    "\n",
    "# Fit to data and plot progress\n",
    "start = time.time()\n",
    "\n",
    "# fit regressor\n",
    "regressor.fit(X_train_ts, np.array([y[0] for y in y_train_ts])) \n",
    "elapsed = time.time() - start\n",
    "\n",
    "### Find the optimum objective fun value and NN weights\n",
    "min_obj = regr_callback.min_obj()\n",
    "print(f'Optimum objective value: {np.round(min_obj[1], 4)} @ {min_obj[0]*log_interval} (time={np.round(elapsed, 0)} secs)')"
   ]
  },
  {
   "cell_type": "code",
   "execution_count": 39,
   "id": "d3d8efb4-4f64-4bfe-9a20-9be0ebcdb63e",
   "metadata": {},
   "outputs": [
    {
     "name": "stdout",
     "output_type": "stream",
     "text": [
      "Param shape: (68, 88), Obj fun shape=(68,)\n"
     ]
    }
   ],
   "source": [
    "### Collect all training history\n",
    "params_vals = np.array(regr_callback.params_vals)\n",
    "objfun_vals = np.array(regr_callback.objfun_vals)\n",
    "print(f'Param shape: {params_vals.shape}, Obj fun shape={objfun_vals.shape}')"
   ]
  },
  {
   "cell_type": "markdown",
   "id": "633c01a3-bf1f-4373-9397-68ef776c3e7f",
   "metadata": {},
   "source": [
    "## Report training performance"
   ]
  },
  {
   "cell_type": "code",
   "execution_count": 40,
   "id": "8ffea086-5562-453e-82db-6bceaf81f5f9",
   "metadata": {},
   "outputs": [
    {
     "data": {
      "text/plain": [
       "'sliding_n70_z0_q3_xl2_il2_L_BFGS_B_ep60'"
      ]
     },
     "execution_count": 40,
     "metadata": {},
     "output_type": "execute_result"
    }
   ],
   "source": [
    "### Training parameters\n",
    "\n",
    "### All created files have the following codes:\n",
    "#   n: sample size\n",
    "#   z: level of noise injected\n",
    "#   q: number of qubits\n",
    "#   fm: number of fm layers\n",
    "#   anz: number of ansatz layers\n",
    "#   opt_name: name of the optimiser\n",
    "#   ep: number of \"maxiter\" epochs\n",
    "opt_name = optimizer.setting.splitlines()[0][11:]\n",
    "TRAIN_PREF = f'{CASE_NAME}_n{samples}_z{noise}_q{model.num_qubits}_xl{xlayers}_il{ilayers}_'+\\\n",
    "             f'{opt_name}_ep{epochs}'\n",
    "TRAIN_PREF"
   ]
  },
  {
   "cell_type": "code",
   "execution_count": 42,
   "id": "dd6d4a92-7b5c-4205-af87-88fd76ae9969",
   "metadata": {},
   "outputs": [
    {
     "data": {
      "image/png": "[encoded data removed]",
      "text/plain": [
       "<Figure size 1200x600 with 1 Axes>"
      ]
     },
     "metadata": {},
     "output_type": "display_data"
    }
   ],
   "source": [
    "regr_callback.plot(\n",
    "    ylabel = f'Cost ({loss_fun_name})', \n",
    "    save_plot = f'{FIGURES_PATH}/train_{TRAIN_PREF}/hist_{loss_fun_name}.eps')"
   ]
  },
  {
   "cell_type": "markdown",
   "id": "c4744f7c-f2e7-4a6d-a0f8-8d1b257d5acb",
   "metadata": {},
   "source": [
    "## Save training data"
   ]
  },
  {
   "cell_type": "code",
   "execution_count": 78,
   "id": "1dbfea1d-23f8-4184-b54d-9dc0077be143",
   "metadata": {},
   "outputs": [
    {
     "data": {
      "text/plain": [
       "'log_2/training/sliding_n70_z0_q3_xl2_il2_L_BFGS_B_ep60/info.json'"
      ]
     },
     "execution_count": 78,
     "metadata": {},
     "output_type": "execute_result"
    }
   ],
   "source": [
    "### Training info files \n",
    "train_info_fpath = f'{TRAIN_PATH}/{TRAIN_PREF}/info.json'\n",
    "init_fpath = f'{TRAIN_PATH}/{TRAIN_PREF}/init.arr'\n",
    "history_fpath = f'{TRAIN_PATH}/{TRAIN_PREF}/hist.arr'\n",
    "params_fpath = f'{PARAMS_PATH}/{TRAIN_PREF}/params.arr'\n",
    "train_info_fpath"
   ]
  },
  {
   "cell_type": "code",
   "execution_count": 79,
   "id": "eab775f6-a6a3-4257-99a5-ecbad6fd6a83",
   "metadata": {},
   "outputs": [
    {
     "name": "stdout",
     "output_type": "stream",
     "text": [
      "\n",
      "Saved time series info in file \"log_2/training/sliding_n70_z0_q3_xl2_il2_L_BFGS_B_ep60/info.json\":\n",
      "\n",
      "\tinfo[case_name] = sliding\n",
      "\tinfo[major_version] = 9\n",
      "\tinfo[minor_version] = 0\n",
      "\tinfo[data_name] = 2_sins_sw\n",
      "\tinfo[data_sample] = 70\n",
      "\tinfo[data_split] = 0.7142857142857143\n",
      "\tinfo[data_noise] = 0\n",
      "\tinfo[ansatz_qubits] = 3\n",
      "\tinfo[ansatz_inputs] = 5\n",
      "\tinfo[ansatz_xlayers] = 2\n",
      "\tinfo[log_interv] = 1\n",
      "\tinfo[opt_name] = L_BFGS_B\n",
      "\tinfo[epochs] = 60\n",
      "\tinfo[shots] = 10000\n",
      "\tinfo[seed] = 2022\n",
      "\n"
     ]
    }
   ],
   "source": [
    "## Save training parameters\n",
    "### Save info details\n",
    "train_info = \\\n",
    "    {'case_name':CASE_NAME, \n",
    "     'major_version':MAJOR, \n",
    "     'minor_version':MINOR,\n",
    "     'data_name':DATA_NAME,\n",
    "     'data_sample':samples,\n",
    "     'data_split':train_pc,\n",
    "     'data_noise':noise,\n",
    "     'ansatz_qubits':model.num_qubits,\n",
    "     'ansatz_inputs':inputs,\n",
    "     'ansatz_xlayers':xlayers,\n",
    "     'log_interv':log_interval,\n",
    "     'opt_name':opt_name,\n",
    "     'epochs':epochs,\n",
    "     'shots':shots,\n",
    "     'seed':seed}\n",
    "\n",
    "### Saving the info file\n",
    "write_json_file(train_info_fpath, train_info)\n",
    "    \n",
    "print(f'\\nSaved time series info in file \"{train_info_fpath}\":\\n')\n",
    "for k in train_info.keys():\n",
    "    print(f'\\tinfo[{k}] = {train_info[k]}')\n",
    "print()"
   ]
  },
  {
   "cell_type": "code",
   "execution_count": 80,
   "id": "fcacf53b-f398-4dbd-864d-2b11c4befa79",
   "metadata": {},
   "outputs": [
    {
     "name": "stdout",
     "output_type": "stream",
     "text": [
      "Saved data shapes: init_weights=(88,); objfun_vals=(68,); params_vals=(68, 88)\n"
     ]
    }
   ],
   "source": [
    "### Save the history file, init and training parameters\n",
    "write_ts_file(init_fpath, init_weights)\n",
    "write_ts_file(history_fpath, regr_callback.objfun_vals)\n",
    "write_ts_file(params_fpath, regr_callback.params_vals)\n",
    "print(f'Saved data shapes: init_weights={init_weights.shape}; '+\\\n",
    "      f'objfun_vals=({len(regr_callback.objfun_vals)},); '+\\\n",
    "      f'params_vals=({len(regr_callback.params_vals)}, {len(regr_callback.params_vals[0])})')"
   ]
  },
  {
   "cell_type": "markdown",
   "id": "9564ad78-cfde-426d-b8d9-edec95eb287b",
   "metadata": {},
   "source": [
    "## System"
   ]
  },
  {
   "cell_type": "code",
   "execution_count": 81,
   "id": "2ff513da-63d2-4354-8f80-414ec6213fe6",
   "metadata": {},
   "outputs": [
    {
     "name": "stdout",
     "output_type": "stream",
     "text": [
      "qiskit                    1.2.4\n",
      "qiskit-aer-gpu            0.15.1\n",
      "qiskit-algorithms         0.3.1\n",
      "qiskit-ibm-runtime        0.32.0\n",
      "qiskit-machine-learning   0.7.2\n",
      "qiskit-optimization       0.6.1\n"
     ]
    }
   ],
   "source": [
    "!pip list | grep -e qiskit -e torch"
   ]
  }
 ],
 "metadata": {
  "kernelspec": {
   "display_name": "Python 3 (ipykernel)",
   "language": "python",
   "name": "python3"
  },
  "language_info": {
   "codemirror_mode": {
    "name": "ipython",
    "version": 3
   },
   "file_extension": ".py",
   "mimetype": "text/x-python",
   "name": "python",
   "nbconvert_exporter": "python",
   "pygments_lexer": "ipython3",
   "version": "3.11.10"
  }
 },
 "nbformat": 4,
 "nbformat_minor": 5
}
