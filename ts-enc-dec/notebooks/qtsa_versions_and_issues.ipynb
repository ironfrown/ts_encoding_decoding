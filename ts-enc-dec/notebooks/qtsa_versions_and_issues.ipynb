{
 "cells": [
  {
   "cell_type": "markdown",
   "id": "2fa8b1fa",
   "metadata": {},
   "source": [
    "# Versions of Encoding / Decoding QTSA models\n",
    "\n",
    "**By:** Jacob Cybulski<br>\n",
    "**Date:** Oct 2022 - Dec 2024<br>\n",
    "**Aims:** The goal of this notebook is to build a Time Series Quantum Analysis models and test the data encoding and decoding factors influencing their performance.<br>\n",
    "**Methods:** Curve fitting and forecasting models implemented in Qiskit 1.2.4+.<br><br>\n",
    "**Refs:**\n",
    "- Argparse doco: https://docs.python.org/3/howto/argparse.html\n",
    "- main doco: https://stackoverflow.com/questions/27957373/python-import-and-initialize-argparse-after-if-name-main"
   ]
  },
  {
   "cell_type": "markdown",
   "id": "61d44e07-b6b6-4741-89fe-28f801ba427e",
   "metadata": {},
   "source": [
    "## Versions"
   ]
  },
  {
   "cell_type": "markdown",
   "id": "b211a1eb-54f2-48b1-8db5-2b7cdef65b20",
   "metadata": {},
   "source": [
    "**All models**\n",
    "- Various versions\n",
    "  - Issue 01 (Completed) Replace \"itg_integrated_plot\" with a simpler function, as used in the Washington seminar. Initially write a compatibility bridge.\n",
    "  - Issue 06 (Completed) Remove unnecessary libraries\n",
    "  - Issue 07 (Completed) In all analysis notebooks, TRAIN_PREF and ANALYSIS_PREF are identical to TRAIN_ID, so it can be removed / substituted.\n",
    "  - ***Issue 08*** (Partial) In all training and analysis notebooks, DATA_ID and TRAIN_ID should be brought to the top, so that we do not need to hunt for them in the code.\n",
    "    - Resolved for: data_2sin_analysis, data_2sin_sw_analysis\n",
    "  - ***Issue 09*** (Partial) As training will eventually be done in batch, remove all unnecessary charts from training notebooks, those needed (such as history of objective function) plot directly to file.\n",
    "  - **Issue 11** All notebooks need to upgrade to ML 0.8.0\n",
    "\n",
    "**QTSA 00 2sin**\n",
    "- V1.1 Split into creation and analysis parts\n",
    "  - Increased a data set to 70 data points for training and 30 for validation\n",
    " \n",
    "**QTSA 02 PQFT Serial**\n",
    "- V8.16 Split into training and analysis parts\n",
    "- V8.17 Training with GPU\n",
    "  \n",
    "**QTSA 04 QNN**\n",
    "- V9 Moved to the US server\n",
    "  - V9.6-7 Split training and analysis\n",
    "    - **Issue 02** Model parameter \"input\" not saved in \"info.json\" after training, which requires an explicit loading of data before hand and calculating it from windows length.\n",
    "    - Issue 05 (Completed) Function \"swindow_qnn_model\" has a mispelled variables qubit_no/qubits_no \"qtsa_04_qnn_v9.6_train\" notebook. However, it seemed to work as the outside context defined the missing variable. It was addressed in the \"qtsa_04_qnn_v9.6_analysis\" notebook but has to be fixed in the training part as well - it was left in there to ensure replication of results, we will need to test if after correction it produces identical or close results. **Fix**: Function \"swindow_qnn_model\" corrected in both training and analysis, tests completed, new results provide similar / better results.\n",
    "  - V9.8 Error corrections / new results\n",
    "    - Also renamed the model identifier from \"qnn\" to \"xqnn\" to reflect the last model's changes to make it extensible in terms of the qubit numbers beyond the number of inputs.\n",
    "\n",
    "**QTSA 05 SWIND**\n",
    "- V9 Moved to the US server\n",
    "  - V9.7 Split training and analysis\n",
    "    - **Issue 03** Model parameter \"ent\" not saved in \"info.json\" after training, which requires an assumption as to what is the type of entanglement block in the circuit.\n",
    "    - **Issue 04** Model parameter \"ilayers\" not saved in \"info.json\" after training, which requires its extraction from TRAIN_ID as per file name.\n",
    " \n",
    "**UTILS**\n",
    "- **Issue 10** Charts: Add option to all charts show_plot=True and make plt.show() conditional"
   ]
  },
  {
   "cell_type": "markdown",
   "id": "50f7441d-aa59-4726-af60-ca1787a69236",
   "metadata": {},
   "source": [
    "# Software in use"
   ]
  },
  {
   "cell_type": "code",
   "execution_count": 1,
   "id": "42052073-49d7-45fe-8b97-712025c17c61",
   "metadata": {},
   "outputs": [
    {
     "name": "stdout",
     "output_type": "stream",
     "text": [
      "/home/jacob/miniconda3/envs/qiskit-gpu\n"
     ]
    }
   ],
   "source": [
    "import sys\n",
    "print(sys.prefix)"
   ]
  },
  {
   "cell_type": "code",
   "execution_count": 2,
   "id": "77962f14-623c-4f24-83a6-de00ca5d7650",
   "metadata": {},
   "outputs": [
    {
     "data": {
      "text/plain": [
       "'/home/jacob/Dropbox/Dev/Python/quantum_projects/ts/ts_encoding_decoding_v2'"
      ]
     },
     "execution_count": 2,
     "metadata": {},
     "output_type": "execute_result"
    }
   ],
   "source": [
    "import os\n",
    "os.getcwd() "
   ]
  },
  {
   "cell_type": "code",
   "execution_count": 3,
   "id": "b006922d-333f-47e2-a360-0163fc0a87e4",
   "metadata": {},
   "outputs": [
    {
     "name": "stdout",
     "output_type": "stream",
     "text": [
      "qiskit                    1.2.4\n",
      "qiskit-aer-gpu            0.15.1\n",
      "qiskit-algorithms         0.3.1\n",
      "qiskit-ibm-runtime        0.32.0\n",
      "qiskit-machine-learning   0.7.2\n",
      "qiskit-optimization       0.6.1\n",
      "scikit-learn              1.5.2\n"
     ]
    }
   ],
   "source": [
    "!pip list | grep -e qiskit -e scikit-learn -e torch"
   ]
  }
 ],
 "metadata": {
  "kernelspec": {
   "display_name": "Python 3 (ipykernel)",
   "language": "python",
   "name": "python3"
  },
  "language_info": {
   "codemirror_mode": {
    "name": "ipython",
    "version": 3
   },
   "file_extension": ".py",
   "mimetype": "text/x-python",
   "name": "python",
   "nbconvert_exporter": "python",
   "pygments_lexer": "ipython3",
   "version": "3.11.10"
  },
  "widgets": {
   "application/vnd.jupyter.widget-state+json": {
    "state": {},
    "version_major": 2,
    "version_minor": 0
   }
  }
 },
 "nbformat": 4,
 "nbformat_minor": 5
}
