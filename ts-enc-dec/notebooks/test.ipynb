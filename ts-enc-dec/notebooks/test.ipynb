{
 "cells": [
  {
   "cell_type": "code",
   "execution_count": 1,
   "id": "56abc62a-f172-4fb8-93c4-fcae69b643a7",
   "metadata": {},
   "outputs": [
    {
     "data": {
      "text/html": [
       "<pre style=\"white-space:pre;overflow-x:auto;line-height:normal;font-family:Menlo,'DejaVu Sans Mono',consolas,'Courier New',monospace\"><span style=\"color: #7fbfbf; text-decoration-color: #7fbfbf\">[12/18/24 00:15:20] </span><span style=\"color: #000080; text-decoration-color: #000080\">INFO    </span> Using                                                                  <a href=\"file:///Users/seba/Desktop/ts_encoding_decoding/ts-enc-dec/venv/lib/python3.11/site-packages/kedro/framework/project/__init__.py\" target=\"_blank\"><span style=\"color: #7f7f7f; text-decoration-color: #7f7f7f\">__init__.py</span></a><span style=\"color: #7f7f7f; text-decoration-color: #7f7f7f\">:</span><a href=\"file:///Users/seba/Desktop/ts_encoding_decoding/ts-enc-dec/venv/lib/python3.11/site-packages/kedro/framework/project/__init__.py#270\" target=\"_blank\"><span style=\"color: #7f7f7f; text-decoration-color: #7f7f7f\">270</span></a>\n",
       "<span style=\"color: #7fbfbf; text-decoration-color: #7fbfbf\">                    </span>         <span style=\"color: #008000; text-decoration-color: #008000\">'/Users/seba/Desktop/ts_encoding_decoding/ts-enc-dec/venv/lib/python3.</span> <span style=\"color: #7f7f7f; text-decoration-color: #7f7f7f\">               </span>\n",
       "<span style=\"color: #7fbfbf; text-decoration-color: #7fbfbf\">                    </span>         <span style=\"color: #008000; text-decoration-color: #008000\">11/site-packages/kedro/framework/project/rich_logging.yml'</span> as logging  <span style=\"color: #7f7f7f; text-decoration-color: #7f7f7f\">               </span>\n",
       "<span style=\"color: #7fbfbf; text-decoration-color: #7fbfbf\">                    </span>         configuration.                                                         <span style=\"color: #7f7f7f; text-decoration-color: #7f7f7f\">               </span>\n",
       "</pre>\n"
      ],
      "text/plain": [
       "\u001b[2;36m[12/18/24 00:15:20]\u001b[0m\u001b[2;36m \u001b[0m\u001b[34mINFO    \u001b[0m Using                                                                  \u001b]8;id=350199;file:///Users/seba/Desktop/ts_encoding_decoding/ts-enc-dec/venv/lib/python3.11/site-packages/kedro/framework/project/__init__.py\u001b\\\u001b[2m__init__.py\u001b[0m\u001b]8;;\u001b\\\u001b[2m:\u001b[0m\u001b]8;id=750064;file:///Users/seba/Desktop/ts_encoding_decoding/ts-enc-dec/venv/lib/python3.11/site-packages/kedro/framework/project/__init__.py#270\u001b\\\u001b[2m270\u001b[0m\u001b]8;;\u001b\\\n",
       "\u001b[2;36m                    \u001b[0m         \u001b[32m'/Users/seba/Desktop/ts_encoding_decoding/ts-enc-dec/venv/lib/python3.\u001b[0m \u001b[2m               \u001b[0m\n",
       "\u001b[2;36m                    \u001b[0m         \u001b[32m11/site-packages/kedro/framework/project/rich_logging.yml'\u001b[0m as logging  \u001b[2m               \u001b[0m\n",
       "\u001b[2;36m                    \u001b[0m         configuration.                                                         \u001b[2m               \u001b[0m\n"
      ]
     },
     "metadata": {},
     "output_type": "display_data"
    },
    {
     "data": {
      "text/html": [
       "<pre style=\"white-space:pre;overflow-x:auto;line-height:normal;font-family:Menlo,'DejaVu Sans Mono',consolas,'Courier New',monospace\"><span style=\"color: #7fbfbf; text-decoration-color: #7fbfbf\">                    </span><span style=\"color: #000080; text-decoration-color: #000080\">INFO    </span> Registered line magic <span style=\"color: #008000; text-decoration-color: #008000\">'%reload_kedro'</span>                                   <a href=\"file:///Users/seba/Desktop/ts_encoding_decoding/ts-enc-dec/venv/lib/python3.11/site-packages/kedro/ipython/__init__.py\" target=\"_blank\"><span style=\"color: #7f7f7f; text-decoration-color: #7f7f7f\">__init__.py</span></a><span style=\"color: #7f7f7f; text-decoration-color: #7f7f7f\">:</span><a href=\"file:///Users/seba/Desktop/ts_encoding_decoding/ts-enc-dec/venv/lib/python3.11/site-packages/kedro/ipython/__init__.py#61\" target=\"_blank\"><span style=\"color: #7f7f7f; text-decoration-color: #7f7f7f\">61</span></a>\n",
       "</pre>\n"
      ],
      "text/plain": [
       "\u001b[2;36m                   \u001b[0m\u001b[2;36m \u001b[0m\u001b[34mINFO    \u001b[0m Registered line magic \u001b[32m'%reload_kedro'\u001b[0m                                   \u001b]8;id=646351;file:///Users/seba/Desktop/ts_encoding_decoding/ts-enc-dec/venv/lib/python3.11/site-packages/kedro/ipython/__init__.py\u001b\\\u001b[2m__init__.py\u001b[0m\u001b]8;;\u001b\\\u001b[2m:\u001b[0m\u001b]8;id=942709;file:///Users/seba/Desktop/ts_encoding_decoding/ts-enc-dec/venv/lib/python3.11/site-packages/kedro/ipython/__init__.py#61\u001b\\\u001b[2m61\u001b[0m\u001b]8;;\u001b\\\n"
      ]
     },
     "metadata": {},
     "output_type": "display_data"
    },
    {
     "data": {
      "text/html": [
       "<pre style=\"white-space:pre;overflow-x:auto;line-height:normal;font-family:Menlo,'DejaVu Sans Mono',consolas,'Courier New',monospace\"><span style=\"color: #7fbfbf; text-decoration-color: #7fbfbf\">                    </span><span style=\"color: #000080; text-decoration-color: #000080\">INFO    </span> Registered line magic <span style=\"color: #008000; text-decoration-color: #008000\">'%load_node'</span>                                      <a href=\"file:///Users/seba/Desktop/ts_encoding_decoding/ts-enc-dec/venv/lib/python3.11/site-packages/kedro/ipython/__init__.py\" target=\"_blank\"><span style=\"color: #7f7f7f; text-decoration-color: #7f7f7f\">__init__.py</span></a><span style=\"color: #7f7f7f; text-decoration-color: #7f7f7f\">:</span><a href=\"file:///Users/seba/Desktop/ts_encoding_decoding/ts-enc-dec/venv/lib/python3.11/site-packages/kedro/ipython/__init__.py#63\" target=\"_blank\"><span style=\"color: #7f7f7f; text-decoration-color: #7f7f7f\">63</span></a>\n",
       "</pre>\n"
      ],
      "text/plain": [
       "\u001b[2;36m                   \u001b[0m\u001b[2;36m \u001b[0m\u001b[34mINFO    \u001b[0m Registered line magic \u001b[32m'%load_node'\u001b[0m                                      \u001b]8;id=437618;file:///Users/seba/Desktop/ts_encoding_decoding/ts-enc-dec/venv/lib/python3.11/site-packages/kedro/ipython/__init__.py\u001b\\\u001b[2m__init__.py\u001b[0m\u001b]8;;\u001b\\\u001b[2m:\u001b[0m\u001b]8;id=770798;file:///Users/seba/Desktop/ts_encoding_decoding/ts-enc-dec/venv/lib/python3.11/site-packages/kedro/ipython/__init__.py#63\u001b\\\u001b[2m63\u001b[0m\u001b]8;;\u001b\\\n"
      ]
     },
     "metadata": {},
     "output_type": "display_data"
    },
    {
     "data": {
      "text/html": [
       "<pre style=\"white-space:pre;overflow-x:auto;line-height:normal;font-family:Menlo,'DejaVu Sans Mono',consolas,'Courier New',monospace\"><span style=\"color: #7fbfbf; text-decoration-color: #7fbfbf\">                    </span><span style=\"color: #000080; text-decoration-color: #000080\">INFO    </span> Resolved project path as:                                              <a href=\"file:///Users/seba/Desktop/ts_encoding_decoding/ts-enc-dec/venv/lib/python3.11/site-packages/kedro/ipython/__init__.py\" target=\"_blank\"><span style=\"color: #7f7f7f; text-decoration-color: #7f7f7f\">__init__.py</span></a><span style=\"color: #7f7f7f; text-decoration-color: #7f7f7f\">:</span><a href=\"file:///Users/seba/Desktop/ts_encoding_decoding/ts-enc-dec/venv/lib/python3.11/site-packages/kedro/ipython/__init__.py#178\" target=\"_blank\"><span style=\"color: #7f7f7f; text-decoration-color: #7f7f7f\">178</span></a>\n",
       "<span style=\"color: #7fbfbf; text-decoration-color: #7fbfbf\">                    </span>         <span style=\"color: #800080; text-decoration-color: #800080\">/Users/seba/Desktop/ts_encoding_decoding/</span><span style=\"color: #ff00ff; text-decoration-color: #ff00ff\">ts-enc-dec.</span>                   <span style=\"color: #7f7f7f; text-decoration-color: #7f7f7f\">               </span>\n",
       "<span style=\"color: #7fbfbf; text-decoration-color: #7fbfbf\">                    </span>         To set a different path, run <span style=\"color: #008000; text-decoration-color: #008000\">'%reload_kedro &lt;project_root&gt;'</span>            <span style=\"color: #7f7f7f; text-decoration-color: #7f7f7f\">               </span>\n",
       "</pre>\n"
      ],
      "text/plain": [
       "\u001b[2;36m                   \u001b[0m\u001b[2;36m \u001b[0m\u001b[34mINFO    \u001b[0m Resolved project path as:                                              \u001b]8;id=135933;file:///Users/seba/Desktop/ts_encoding_decoding/ts-enc-dec/venv/lib/python3.11/site-packages/kedro/ipython/__init__.py\u001b\\\u001b[2m__init__.py\u001b[0m\u001b]8;;\u001b\\\u001b[2m:\u001b[0m\u001b]8;id=482132;file:///Users/seba/Desktop/ts_encoding_decoding/ts-enc-dec/venv/lib/python3.11/site-packages/kedro/ipython/__init__.py#178\u001b\\\u001b[2m178\u001b[0m\u001b]8;;\u001b\\\n",
       "\u001b[2;36m                    \u001b[0m         \u001b[35m/Users/seba/Desktop/ts_encoding_decoding/\u001b[0m\u001b[95mts-enc-dec.\u001b[0m                   \u001b[2m               \u001b[0m\n",
       "\u001b[2;36m                    \u001b[0m         To set a different path, run \u001b[32m'%reload_kedro \u001b[0m\u001b[32m<\u001b[0m\u001b[32mproject_root\u001b[0m\u001b[32m>\u001b[0m\u001b[32m'\u001b[0m            \u001b[2m               \u001b[0m\n"
      ]
     },
     "metadata": {},
     "output_type": "display_data"
    },
    {
     "data": {
      "text/html": [
       "<pre style=\"white-space:pre;overflow-x:auto;line-height:normal;font-family:Menlo,'DejaVu Sans Mono',consolas,'Courier New',monospace\"><span style=\"color: #7fbfbf; text-decoration-color: #7fbfbf\">[12/18/24 00:15:20] </span><span style=\"color: #000080; text-decoration-color: #000080\">INFO    </span> Kedro project ts-enc-dec                                               <a href=\"file:///Users/seba/Desktop/ts_encoding_decoding/ts-enc-dec/venv/lib/python3.11/site-packages/kedro/ipython/__init__.py\" target=\"_blank\"><span style=\"color: #7f7f7f; text-decoration-color: #7f7f7f\">__init__.py</span></a><span style=\"color: #7f7f7f; text-decoration-color: #7f7f7f\">:</span><a href=\"file:///Users/seba/Desktop/ts_encoding_decoding/ts-enc-dec/venv/lib/python3.11/site-packages/kedro/ipython/__init__.py#144\" target=\"_blank\"><span style=\"color: #7f7f7f; text-decoration-color: #7f7f7f\">144</span></a>\n",
       "</pre>\n"
      ],
      "text/plain": [
       "\u001b[2;36m[12/18/24 00:15:20]\u001b[0m\u001b[2;36m \u001b[0m\u001b[34mINFO    \u001b[0m Kedro project ts-enc-dec                                               \u001b]8;id=558396;file:///Users/seba/Desktop/ts_encoding_decoding/ts-enc-dec/venv/lib/python3.11/site-packages/kedro/ipython/__init__.py\u001b\\\u001b[2m__init__.py\u001b[0m\u001b]8;;\u001b\\\u001b[2m:\u001b[0m\u001b]8;id=197190;file:///Users/seba/Desktop/ts_encoding_decoding/ts-enc-dec/venv/lib/python3.11/site-packages/kedro/ipython/__init__.py#144\u001b\\\u001b[2m144\u001b[0m\u001b]8;;\u001b\\\n"
      ]
     },
     "metadata": {},
     "output_type": "display_data"
    },
    {
     "data": {
      "text/html": [
       "<pre style=\"white-space:pre;overflow-x:auto;line-height:normal;font-family:Menlo,'DejaVu Sans Mono',consolas,'Courier New',monospace\"><span style=\"color: #7fbfbf; text-decoration-color: #7fbfbf\">                    </span><span style=\"color: #000080; text-decoration-color: #000080\">INFO    </span> Defined global variable <span style=\"color: #008000; text-decoration-color: #008000\">'context'</span>, <span style=\"color: #008000; text-decoration-color: #008000\">'session'</span>, <span style=\"color: #008000; text-decoration-color: #008000\">'catalog'</span> and            <a href=\"file:///Users/seba/Desktop/ts_encoding_decoding/ts-enc-dec/venv/lib/python3.11/site-packages/kedro/ipython/__init__.py\" target=\"_blank\"><span style=\"color: #7f7f7f; text-decoration-color: #7f7f7f\">__init__.py</span></a><span style=\"color: #7f7f7f; text-decoration-color: #7f7f7f\">:</span><a href=\"file:///Users/seba/Desktop/ts_encoding_decoding/ts-enc-dec/venv/lib/python3.11/site-packages/kedro/ipython/__init__.py#145\" target=\"_blank\"><span style=\"color: #7f7f7f; text-decoration-color: #7f7f7f\">145</span></a>\n",
       "<span style=\"color: #7fbfbf; text-decoration-color: #7fbfbf\">                    </span>         <span style=\"color: #008000; text-decoration-color: #008000\">'pipelines'</span>                                                            <span style=\"color: #7f7f7f; text-decoration-color: #7f7f7f\">               </span>\n",
       "</pre>\n"
      ],
      "text/plain": [
       "\u001b[2;36m                   \u001b[0m\u001b[2;36m \u001b[0m\u001b[34mINFO    \u001b[0m Defined global variable \u001b[32m'context'\u001b[0m, \u001b[32m'session'\u001b[0m, \u001b[32m'catalog'\u001b[0m and            \u001b]8;id=588231;file:///Users/seba/Desktop/ts_encoding_decoding/ts-enc-dec/venv/lib/python3.11/site-packages/kedro/ipython/__init__.py\u001b\\\u001b[2m__init__.py\u001b[0m\u001b]8;;\u001b\\\u001b[2m:\u001b[0m\u001b]8;id=698912;file:///Users/seba/Desktop/ts_encoding_decoding/ts-enc-dec/venv/lib/python3.11/site-packages/kedro/ipython/__init__.py#145\u001b\\\u001b[2m145\u001b[0m\u001b]8;;\u001b\\\n",
       "\u001b[2;36m                    \u001b[0m         \u001b[32m'pipelines'\u001b[0m                                                            \u001b[2m               \u001b[0m\n"
      ]
     },
     "metadata": {},
     "output_type": "display_data"
    },
    {
     "data": {
      "text/html": [
       "<pre style=\"white-space:pre;overflow-x:auto;line-height:normal;font-family:Menlo,'DejaVu Sans Mono',consolas,'Courier New',monospace\"><span style=\"color: #7fbfbf; text-decoration-color: #7fbfbf\">                    </span><span style=\"color: #000080; text-decoration-color: #000080\">INFO    </span> Registered line magic <span style=\"color: #008000; text-decoration-color: #008000\">'run_viz'</span>                                        <a href=\"file:///Users/seba/Desktop/ts_encoding_decoding/ts-enc-dec/venv/lib/python3.11/site-packages/kedro/ipython/__init__.py\" target=\"_blank\"><span style=\"color: #7f7f7f; text-decoration-color: #7f7f7f\">__init__.py</span></a><span style=\"color: #7f7f7f; text-decoration-color: #7f7f7f\">:</span><a href=\"file:///Users/seba/Desktop/ts_encoding_decoding/ts-enc-dec/venv/lib/python3.11/site-packages/kedro/ipython/__init__.py#151\" target=\"_blank\"><span style=\"color: #7f7f7f; text-decoration-color: #7f7f7f\">151</span></a>\n",
       "</pre>\n"
      ],
      "text/plain": [
       "\u001b[2;36m                   \u001b[0m\u001b[2;36m \u001b[0m\u001b[34mINFO    \u001b[0m Registered line magic \u001b[32m'run_viz'\u001b[0m                                        \u001b]8;id=481679;file:///Users/seba/Desktop/ts_encoding_decoding/ts-enc-dec/venv/lib/python3.11/site-packages/kedro/ipython/__init__.py\u001b\\\u001b[2m__init__.py\u001b[0m\u001b]8;;\u001b\\\u001b[2m:\u001b[0m\u001b]8;id=214507;file:///Users/seba/Desktop/ts_encoding_decoding/ts-enc-dec/venv/lib/python3.11/site-packages/kedro/ipython/__init__.py#151\u001b\\\u001b[2m151\u001b[0m\u001b]8;;\u001b\\\n"
      ]
     },
     "metadata": {},
     "output_type": "display_data"
    }
   ],
   "source": [
    "%load_ext kedro.ipython"
   ]
  },
  {
   "cell_type": "code",
   "execution_count": 2,
   "id": "a7aba40a",
   "metadata": {},
   "outputs": [
    {
     "data": {
      "text/html": [
       "<pre style=\"white-space:pre;overflow-x:auto;line-height:normal;font-family:Menlo,'DejaVu Sans Mono',consolas,'Courier New',monospace\"></pre>\n"
      ],
      "text/plain": []
     },
     "metadata": {},
     "output_type": "display_data"
    },
    {
     "data": {
      "text/plain": [
       "\n",
       "\u001b[1m[\u001b[0m\n",
       "    \u001b[32m'x_all'\u001b[0m,\n",
       "    \u001b[32m'y_all'\u001b[0m,\n",
       "    \u001b[32m'x_train'\u001b[0m,\n",
       "    \u001b[32m'y_train'\u001b[0m,\n",
       "    \u001b[32m'x_valid'\u001b[0m,\n",
       "    \u001b[32m'y_valid'\u001b[0m,\n",
       "    \u001b[32m'data_plot'\u001b[0m,\n",
       "    \u001b[32m'X_all_sw'\u001b[0m,\n",
       "    \u001b[32m'y_all_sw'\u001b[0m,\n",
       "    \u001b[32m'x_train_sw'\u001b[0m,\n",
       "    \u001b[32m'y_train_sw'\u001b[0m,\n",
       "    \u001b[32m'x_valid_sw'\u001b[0m,\n",
       "    \u001b[32m'y_valid_sw'\u001b[0m,\n",
       "    \u001b[32m'data_plot_sw'\u001b[0m,\n",
       "    \u001b[32m'parameters'\u001b[0m,\n",
       "    \u001b[32m'params:target_name'\u001b[0m,\n",
       "    \u001b[32m'params:simple_data_prep'\u001b[0m,\n",
       "    \u001b[32m'params:simple_data_prep.samples'\u001b[0m,\n",
       "    \u001b[32m'params:simple_data_prep.noise'\u001b[0m,\n",
       "    \u001b[32m'params:simple_data_prep.train_pc'\u001b[0m,\n",
       "    \u001b[32m'params:simple_data_prep.seed'\u001b[0m,\n",
       "    \u001b[32m'params:sw_data_prep'\u001b[0m,\n",
       "    \u001b[32m'params:sw_data_prep.samples'\u001b[0m,\n",
       "    \u001b[32m'params:sw_data_prep.noise'\u001b[0m,\n",
       "    \u001b[32m'params:sw_data_prep.wind_size'\u001b[0m,\n",
       "    \u001b[32m'params:sw_data_prep.wind_step'\u001b[0m,\n",
       "    \u001b[32m'params:sw_data_prep.horizon'\u001b[0m,\n",
       "    \u001b[32m'params:sw_data_prep.train_pc'\u001b[0m,\n",
       "    \u001b[32m'params:sw_data_prep.seed'\u001b[0m,\n",
       "    \u001b[32m'params:simple_plot_tr_ts'\u001b[0m,\n",
       "    \u001b[32m'params:simple_plot_tr_ts.xlim'\u001b[0m,\n",
       "    \u001b[32m'params:simple_plot_tr_ts.ylim'\u001b[0m,\n",
       "    \u001b[32m'params:simple_plot_tr_ts.colors'\u001b[0m,\n",
       "    \u001b[32m'params:simple_plot_tr_ts.linestyles'\u001b[0m,\n",
       "    \u001b[32m'params:simple_plot_tr_ts.title'\u001b[0m,\n",
       "    \u001b[32m'params:sw_plot_tr_ts'\u001b[0m,\n",
       "    \u001b[32m'params:sw_plot_tr_ts.ylim'\u001b[0m,\n",
       "    \u001b[32m'params:sw_plot_tr_ts.colors'\u001b[0m,\n",
       "    \u001b[32m'params:sw_plot_tr_ts.marker_colors'\u001b[0m,\n",
       "    \u001b[32m'params:sw_plot_tr_ts.xlabel'\u001b[0m,\n",
       "    \u001b[32m'params:sw_plot_tr_ts.ylabel'\u001b[0m,\n",
       "    \u001b[32m'params:sw_plot_tr_ts.labels'\u001b[0m,\n",
       "    \u001b[32m'params:sw_plot_tr_ts.linestyles'\u001b[0m,\n",
       "    \u001b[32m'params:sw_plot_tr_ts.lines'\u001b[0m,\n",
       "    \u001b[32m'params:sw_plot_tr_ts.markers'\u001b[0m,\n",
       "    \u001b[32m'params:sw_plot_tr_ts.legend_cols'\u001b[0m,\n",
       "    \u001b[32m'params:sw_plot_tr_ts.title'\u001b[0m\n",
       "\u001b[1m]\u001b[0m"
      ]
     },
     "execution_count": 2,
     "metadata": {},
     "output_type": "execute_result"
    }
   ],
   "source": [
    "catalog.list()"
   ]
  },
  {
   "cell_type": "code",
   "execution_count": 4,
   "id": "b2ca12ac",
   "metadata": {},
   "outputs": [
    {
     "data": {
      "text/html": [
       "<pre style=\"white-space:pre;overflow-x:auto;line-height:normal;font-family:Menlo,'DejaVu Sans Mono',consolas,'Courier New',monospace\"><span style=\"color: #7fbfbf; text-decoration-color: #7fbfbf\">[12/18/24 00:15:53] </span><span style=\"color: #000080; text-decoration-color: #000080\">INFO    </span> Loading data from <span style=\"color: #ff8700; text-decoration-color: #ff8700\">x_all</span> <span style=\"font-weight: bold\">(</span>CSVDataset<span style=\"font-weight: bold\">)</span><span style=\"color: #808000; text-decoration-color: #808000\">...</span>                            <a href=\"file:///Users/seba/Desktop/ts_encoding_decoding/ts-enc-dec/venv/lib/python3.11/site-packages/kedro/io/data_catalog.py\" target=\"_blank\"><span style=\"color: #7f7f7f; text-decoration-color: #7f7f7f\">data_catalog.py</span></a><span style=\"color: #7f7f7f; text-decoration-color: #7f7f7f\">:</span><a href=\"file:///Users/seba/Desktop/ts_encoding_decoding/ts-enc-dec/venv/lib/python3.11/site-packages/kedro/io/data_catalog.py#389\" target=\"_blank\"><span style=\"color: #7f7f7f; text-decoration-color: #7f7f7f\">389</span></a>\n",
       "</pre>\n"
      ],
      "text/plain": [
       "\u001b[2;36m[12/18/24 00:15:53]\u001b[0m\u001b[2;36m \u001b[0m\u001b[34mINFO    \u001b[0m Loading data from \u001b[38;5;208mx_all\u001b[0m \u001b[1m(\u001b[0mCSVDataset\u001b[1m)\u001b[0m\u001b[33m...\u001b[0m                            \u001b]8;id=501941;file:///Users/seba/Desktop/ts_encoding_decoding/ts-enc-dec/venv/lib/python3.11/site-packages/kedro/io/data_catalog.py\u001b\\\u001b[2mdata_catalog.py\u001b[0m\u001b]8;;\u001b\\\u001b[2m:\u001b[0m\u001b]8;id=405361;file:///Users/seba/Desktop/ts_encoding_decoding/ts-enc-dec/venv/lib/python3.11/site-packages/kedro/io/data_catalog.py#389\u001b\\\u001b[2m389\u001b[0m\u001b]8;;\u001b\\\n"
      ]
     },
     "metadata": {},
     "output_type": "display_data"
    },
    {
     "data": {
      "text/html": [
       "<pre style=\"white-space:pre;overflow-x:auto;line-height:normal;font-family:Menlo,'DejaVu Sans Mono',consolas,'Courier New',monospace\"></pre>\n"
      ],
      "text/plain": []
     },
     "metadata": {},
     "output_type": "display_data"
    },
    {
     "data": {
      "text/html": [
       "<div>\n",
       "<style scoped>\n",
       "    .dataframe tbody tr th:only-of-type {\n",
       "        vertical-align: middle;\n",
       "    }\n",
       "\n",
       "    .dataframe tbody tr th {\n",
       "        vertical-align: top;\n",
       "    }\n",
       "\n",
       "    .dataframe thead th {\n",
       "        text-align: right;\n",
       "    }\n",
       "</style>\n",
       "<table border=\"1\" class=\"dataframe\">\n",
       "  <thead>\n",
       "    <tr style=\"text-align: right;\">\n",
       "      <th></th>\n",
       "      <th>data</th>\n",
       "    </tr>\n",
       "  </thead>\n",
       "  <tbody>\n",
       "    <tr>\n",
       "      <th>0</th>\n",
       "      <td>-6.283185</td>\n",
       "    </tr>\n",
       "    <tr>\n",
       "      <th>1</th>\n",
       "      <td>-6.156252</td>\n",
       "    </tr>\n",
       "    <tr>\n",
       "      <th>2</th>\n",
       "      <td>-6.029319</td>\n",
       "    </tr>\n",
       "    <tr>\n",
       "      <th>3</th>\n",
       "      <td>-5.902386</td>\n",
       "    </tr>\n",
       "    <tr>\n",
       "      <th>4</th>\n",
       "      <td>-5.775453</td>\n",
       "    </tr>\n",
       "  </tbody>\n",
       "</table>\n",
       "</div>"
      ],
      "text/plain": [
       "\n",
       "       data\n",
       "\u001b[1;36m0\u001b[0m \u001b[1;36m-6.283185\u001b[0m\n",
       "\u001b[1;36m1\u001b[0m \u001b[1;36m-6.156252\u001b[0m\n",
       "\u001b[1;36m2\u001b[0m \u001b[1;36m-6.029319\u001b[0m\n",
       "\u001b[1;36m3\u001b[0m \u001b[1;36m-5.902386\u001b[0m\n",
       "\u001b[1;36m4\u001b[0m \u001b[1;36m-5.775453\u001b[0m"
      ]
     },
     "execution_count": 4,
     "metadata": {},
     "output_type": "execute_result"
    }
   ],
   "source": [
    "catalog.load(\"x_all\").head()"
   ]
  },
  {
   "cell_type": "code",
   "execution_count": 5,
   "id": "bb5b04a8",
   "metadata": {},
   "outputs": [
    {
     "data": {
      "text/html": [
       "<pre style=\"white-space:pre;overflow-x:auto;line-height:normal;font-family:Menlo,'DejaVu Sans Mono',consolas,'Courier New',monospace\"><span style=\"color: #7fbfbf; text-decoration-color: #7fbfbf\">[12/18/24 00:16:05] </span><span style=\"color: #000080; text-decoration-color: #000080\">INFO    </span> Loading data from <span style=\"color: #ff8700; text-decoration-color: #ff8700\">y_all</span> <span style=\"font-weight: bold\">(</span>CSVDataset<span style=\"font-weight: bold\">)</span><span style=\"color: #808000; text-decoration-color: #808000\">...</span>                            <a href=\"file:///Users/seba/Desktop/ts_encoding_decoding/ts-enc-dec/venv/lib/python3.11/site-packages/kedro/io/data_catalog.py\" target=\"_blank\"><span style=\"color: #7f7f7f; text-decoration-color: #7f7f7f\">data_catalog.py</span></a><span style=\"color: #7f7f7f; text-decoration-color: #7f7f7f\">:</span><a href=\"file:///Users/seba/Desktop/ts_encoding_decoding/ts-enc-dec/venv/lib/python3.11/site-packages/kedro/io/data_catalog.py#389\" target=\"_blank\"><span style=\"color: #7f7f7f; text-decoration-color: #7f7f7f\">389</span></a>\n",
       "</pre>\n"
      ],
      "text/plain": [
       "\u001b[2;36m[12/18/24 00:16:05]\u001b[0m\u001b[2;36m \u001b[0m\u001b[34mINFO    \u001b[0m Loading data from \u001b[38;5;208my_all\u001b[0m \u001b[1m(\u001b[0mCSVDataset\u001b[1m)\u001b[0m\u001b[33m...\u001b[0m                            \u001b]8;id=852079;file:///Users/seba/Desktop/ts_encoding_decoding/ts-enc-dec/venv/lib/python3.11/site-packages/kedro/io/data_catalog.py\u001b\\\u001b[2mdata_catalog.py\u001b[0m\u001b]8;;\u001b\\\u001b[2m:\u001b[0m\u001b]8;id=911174;file:///Users/seba/Desktop/ts_encoding_decoding/ts-enc-dec/venv/lib/python3.11/site-packages/kedro/io/data_catalog.py#389\u001b\\\u001b[2m389\u001b[0m\u001b]8;;\u001b\\\n"
      ]
     },
     "metadata": {},
     "output_type": "display_data"
    },
    {
     "data": {
      "text/html": [
       "<pre style=\"white-space:pre;overflow-x:auto;line-height:normal;font-family:Menlo,'DejaVu Sans Mono',consolas,'Courier New',monospace\"></pre>\n"
      ],
      "text/plain": []
     },
     "metadata": {},
     "output_type": "display_data"
    },
    {
     "data": {
      "text/html": [
       "<div>\n",
       "<style scoped>\n",
       "    .dataframe tbody tr th:only-of-type {\n",
       "        vertical-align: middle;\n",
       "    }\n",
       "\n",
       "    .dataframe tbody tr th {\n",
       "        vertical-align: top;\n",
       "    }\n",
       "\n",
       "    .dataframe thead th {\n",
       "        text-align: right;\n",
       "    }\n",
       "</style>\n",
       "<table border=\"1\" class=\"dataframe\">\n",
       "  <thead>\n",
       "    <tr style=\"text-align: right;\">\n",
       "      <th></th>\n",
       "      <th>data</th>\n",
       "    </tr>\n",
       "  </thead>\n",
       "  <tbody>\n",
       "    <tr>\n",
       "      <th>0</th>\n",
       "      <td>0.500000</td>\n",
       "    </tr>\n",
       "    <tr>\n",
       "      <th>1</th>\n",
       "      <td>0.754443</td>\n",
       "    </tr>\n",
       "    <tr>\n",
       "      <th>2</th>\n",
       "      <td>0.850725</td>\n",
       "    </tr>\n",
       "    <tr>\n",
       "      <th>3</th>\n",
       "      <td>0.748132</td>\n",
       "    </tr>\n",
       "    <tr>\n",
       "      <th>4</th>\n",
       "      <td>0.542295</td>\n",
       "    </tr>\n",
       "  </tbody>\n",
       "</table>\n",
       "</div>"
      ],
      "text/plain": [
       "\n",
       "       data\n",
       "\u001b[1;36m0\u001b[0m  \u001b[1;36m0.500000\u001b[0m\n",
       "\u001b[1;36m1\u001b[0m  \u001b[1;36m0.754443\u001b[0m\n",
       "\u001b[1;36m2\u001b[0m  \u001b[1;36m0.850725\u001b[0m\n",
       "\u001b[1;36m3\u001b[0m  \u001b[1;36m0.748132\u001b[0m\n",
       "\u001b[1;36m4\u001b[0m  \u001b[1;36m0.542295\u001b[0m"
      ]
     },
     "execution_count": 5,
     "metadata": {},
     "output_type": "execute_result"
    }
   ],
   "source": [
    "catalog.load(\"y_all\").head()"
   ]
  },
  {
   "cell_type": "code",
   "execution_count": 6,
   "id": "35765e4a",
   "metadata": {},
   "outputs": [
    {
     "data": {
      "text/html": [
       "<pre style=\"white-space:pre;overflow-x:auto;line-height:normal;font-family:Menlo,'DejaVu Sans Mono',consolas,'Courier New',monospace\"><span style=\"color: #7fbfbf; text-decoration-color: #7fbfbf\">[12/18/24 00:16:29] </span><span style=\"color: #000080; text-decoration-color: #000080\">INFO    </span> Loading data from <span style=\"color: #ff8700; text-decoration-color: #ff8700\">parameters</span> <span style=\"font-weight: bold\">(</span>MemoryDataset<span style=\"font-weight: bold\">)</span><span style=\"color: #808000; text-decoration-color: #808000\">...</span>                    <a href=\"file:///Users/seba/Desktop/ts_encoding_decoding/ts-enc-dec/venv/lib/python3.11/site-packages/kedro/io/data_catalog.py\" target=\"_blank\"><span style=\"color: #7f7f7f; text-decoration-color: #7f7f7f\">data_catalog.py</span></a><span style=\"color: #7f7f7f; text-decoration-color: #7f7f7f\">:</span><a href=\"file:///Users/seba/Desktop/ts_encoding_decoding/ts-enc-dec/venv/lib/python3.11/site-packages/kedro/io/data_catalog.py#389\" target=\"_blank\"><span style=\"color: #7f7f7f; text-decoration-color: #7f7f7f\">389</span></a>\n",
       "</pre>\n"
      ],
      "text/plain": [
       "\u001b[2;36m[12/18/24 00:16:29]\u001b[0m\u001b[2;36m \u001b[0m\u001b[34mINFO    \u001b[0m Loading data from \u001b[38;5;208mparameters\u001b[0m \u001b[1m(\u001b[0mMemoryDataset\u001b[1m)\u001b[0m\u001b[33m...\u001b[0m                    \u001b]8;id=348072;file:///Users/seba/Desktop/ts_encoding_decoding/ts-enc-dec/venv/lib/python3.11/site-packages/kedro/io/data_catalog.py\u001b\\\u001b[2mdata_catalog.py\u001b[0m\u001b]8;;\u001b\\\u001b[2m:\u001b[0m\u001b]8;id=700465;file:///Users/seba/Desktop/ts_encoding_decoding/ts-enc-dec/venv/lib/python3.11/site-packages/kedro/io/data_catalog.py#389\u001b\\\u001b[2m389\u001b[0m\u001b]8;;\u001b\\\n"
      ]
     },
     "metadata": {},
     "output_type": "display_data"
    },
    {
     "data": {
      "text/html": [
       "<pre style=\"white-space:pre;overflow-x:auto;line-height:normal;font-family:Menlo,'DejaVu Sans Mono',consolas,'Courier New',monospace\"></pre>\n"
      ],
      "text/plain": []
     },
     "metadata": {},
     "output_type": "display_data"
    },
    {
     "data": {
      "text/plain": [
       "\n",
       "\u001b[1m{\u001b[0m\n",
       "    \u001b[32m'target_name'\u001b[0m: \u001b[32m'Target_2_sins'\u001b[0m,\n",
       "    \u001b[32m'simple_data_prep'\u001b[0m: \u001b[1m{\u001b[0m\u001b[32m'samples'\u001b[0m: \u001b[1;36m100\u001b[0m, \u001b[32m'noise'\u001b[0m: \u001b[1;36m0.0\u001b[0m, \u001b[32m'train_pc'\u001b[0m: \u001b[1;36m0.7\u001b[0m, \u001b[32m'seed'\u001b[0m: \u001b[1;36m1410\u001b[0m\u001b[1m}\u001b[0m,\n",
       "    \u001b[32m'sw_data_prep'\u001b[0m: \u001b[1m{\u001b[0m\n",
       "        \u001b[32m'samples'\u001b[0m: \u001b[1;36m100\u001b[0m,\n",
       "        \u001b[32m'noise'\u001b[0m: \u001b[1;36m0.0\u001b[0m,\n",
       "        \u001b[32m'wind_size'\u001b[0m: \u001b[1;36m5\u001b[0m,\n",
       "        \u001b[32m'wind_step'\u001b[0m: \u001b[1;36m1\u001b[0m,\n",
       "        \u001b[32m'horizon'\u001b[0m: \u001b[1;36m1\u001b[0m,\n",
       "        \u001b[32m'train_pc'\u001b[0m: \u001b[1;36m0.7\u001b[0m,\n",
       "        \u001b[32m'seed'\u001b[0m: \u001b[1;36m2024\u001b[0m\n",
       "    \u001b[1m}\u001b[0m,\n",
       "    \u001b[32m'simple_plot_tr_ts'\u001b[0m: \u001b[1m{\u001b[0m\n",
       "        \u001b[32m'xlim'\u001b[0m: \u001b[1m[\u001b[0m\u001b[1;36m-6.7\u001b[0m, \u001b[1;36m6.7\u001b[0m\u001b[1m]\u001b[0m,\n",
       "        \u001b[32m'ylim'\u001b[0m: \u001b[1m[\u001b[0m\u001b[1;36m0.05\u001b[0m, \u001b[1;36m1\u001b[0m\u001b[1m]\u001b[0m,\n",
       "        \u001b[32m'colors'\u001b[0m: \u001b[1m[\u001b[0m\u001b[32m'lightblue'\u001b[0m, \u001b[32m'blue'\u001b[0m, \u001b[32m'red'\u001b[0m, \u001b[32m'blue'\u001b[0m, \u001b[32m'red'\u001b[0m\u001b[1m]\u001b[0m,\n",
       "        \u001b[32m'linestyles'\u001b[0m: \u001b[1m[\u001b[0m\u001b[32m'dashed'\u001b[0m, \u001b[32m'solid'\u001b[0m, \u001b[32m'solid'\u001b[0m\u001b[1m]\u001b[0m,\n",
       "        \u001b[32m'title'\u001b[0m: \u001b[32m'Dataset for curve fitting \u001b[0m\u001b[32m(\u001b[0m\u001b[32m\"2_sins\" data, with 100 samples\u001b[0m\u001b[32m)\u001b[0m\u001b[32m'\u001b[0m\n",
       "    \u001b[1m}\u001b[0m,\n",
       "    \u001b[32m'sw_plot_tr_ts'\u001b[0m: \u001b[1m{\u001b[0m\n",
       "        \u001b[32m'ylim'\u001b[0m: \u001b[1m[\u001b[0m\u001b[1;36m0.05\u001b[0m, \u001b[1;36m1\u001b[0m\u001b[1m]\u001b[0m,\n",
       "        \u001b[32m'colors'\u001b[0m: \u001b[1m[\u001b[0m\u001b[32m'lightblue'\u001b[0m, \u001b[32m'blue'\u001b[0m, \u001b[32m'red'\u001b[0m\u001b[1m]\u001b[0m,\n",
       "        \u001b[32m'marker_colors'\u001b[0m: \u001b[1m[\u001b[0m\u001b[32m'None'\u001b[0m, \u001b[32m'white'\u001b[0m, \u001b[32m'white'\u001b[0m, \u001b[32m'lightblue'\u001b[0m, \u001b[32m'mistyrose'\u001b[0m\u001b[1m]\u001b[0m,\n",
       "        \u001b[32m'xlabel'\u001b[0m: \u001b[32m'Range \u001b[0m\u001b[32m(\u001b[0m\u001b[32moverlapping windows\u001b[0m\u001b[32m)\u001b[0m\u001b[32m'\u001b[0m,\n",
       "        \u001b[32m'ylabel'\u001b[0m: \u001b[32m'Target value \u001b[0m\u001b[32m(\u001b[0m\u001b[32maveraged\u001b[0m\u001b[32m)\u001b[0m\u001b[32m'\u001b[0m,\n",
       "        \u001b[32m'labels'\u001b[0m: \u001b[1m[\u001b[0m\u001b[32m'Target function'\u001b[0m, \u001b[32m'Training'\u001b[0m, \u001b[32m'Validation'\u001b[0m\u001b[1m]\u001b[0m,\n",
       "        \u001b[32m'linestyles'\u001b[0m: \u001b[1m[\u001b[0m\u001b[32m'dashed'\u001b[0m, \u001b[32m'solid'\u001b[0m, \u001b[32m'solid'\u001b[0m\u001b[1m]\u001b[0m,\n",
       "        \u001b[32m'lines'\u001b[0m: \u001b[1m[\u001b[0m\u001b[32m'dashed'\u001b[0m, \u001b[32m'solid'\u001b[0m, \u001b[32m'solid'\u001b[0m\u001b[1m]\u001b[0m,\n",
       "        \u001b[32m'markers'\u001b[0m: \u001b[1m[\u001b[0m\u001b[32m'None'\u001b[0m, \u001b[32m'o'\u001b[0m, \u001b[32m'o'\u001b[0m\u001b[1m]\u001b[0m,\n",
       "        \u001b[32m'legend_cols'\u001b[0m: \u001b[1;36m3\u001b[0m,\n",
       "        \u001b[32m'title'\u001b[0m: \u001b[32m'Dataset for TS forecasting \u001b[0m\u001b[32m(\u001b[0m\u001b[32m\"2_sins\" data, with 100 samples\u001b[0m\u001b[32m)\u001b[0m\u001b[32m'\u001b[0m\n",
       "    \u001b[1m}\u001b[0m\n",
       "\u001b[1m}\u001b[0m"
      ]
     },
     "execution_count": 6,
     "metadata": {},
     "output_type": "execute_result"
    }
   ],
   "source": [
    "catalog.load(\"parameters\")"
   ]
  },
  {
   "cell_type": "code",
   "execution_count": 10,
   "id": "5f184f07",
   "metadata": {},
   "outputs": [
    {
     "data": {
      "text/html": [
       "<pre style=\"white-space:pre;overflow-x:auto;line-height:normal;font-family:Menlo,'DejaVu Sans Mono',consolas,'Courier New',monospace\"><span style=\"color: #7fbfbf; text-decoration-color: #7fbfbf\">[12/18/24 00:18:18] </span><span style=\"color: #000080; text-decoration-color: #000080\">INFO    </span> Loading data from <span style=\"color: #ff8700; text-decoration-color: #ff8700\">x_train</span> <span style=\"font-weight: bold\">(</span>CSVDataset<span style=\"font-weight: bold\">)</span><span style=\"color: #808000; text-decoration-color: #808000\">...</span>                          <a href=\"file:///Users/seba/Desktop/ts_encoding_decoding/ts-enc-dec/venv/lib/python3.11/site-packages/kedro/io/data_catalog.py\" target=\"_blank\"><span style=\"color: #7f7f7f; text-decoration-color: #7f7f7f\">data_catalog.py</span></a><span style=\"color: #7f7f7f; text-decoration-color: #7f7f7f\">:</span><a href=\"file:///Users/seba/Desktop/ts_encoding_decoding/ts-enc-dec/venv/lib/python3.11/site-packages/kedro/io/data_catalog.py#389\" target=\"_blank\"><span style=\"color: #7f7f7f; text-decoration-color: #7f7f7f\">389</span></a>\n",
       "</pre>\n"
      ],
      "text/plain": [
       "\u001b[2;36m[12/18/24 00:18:18]\u001b[0m\u001b[2;36m \u001b[0m\u001b[34mINFO    \u001b[0m Loading data from \u001b[38;5;208mx_train\u001b[0m \u001b[1m(\u001b[0mCSVDataset\u001b[1m)\u001b[0m\u001b[33m...\u001b[0m                          \u001b]8;id=939091;file:///Users/seba/Desktop/ts_encoding_decoding/ts-enc-dec/venv/lib/python3.11/site-packages/kedro/io/data_catalog.py\u001b\\\u001b[2mdata_catalog.py\u001b[0m\u001b]8;;\u001b\\\u001b[2m:\u001b[0m\u001b]8;id=308934;file:///Users/seba/Desktop/ts_encoding_decoding/ts-enc-dec/venv/lib/python3.11/site-packages/kedro/io/data_catalog.py#389\u001b\\\u001b[2m389\u001b[0m\u001b]8;;\u001b\\\n"
      ]
     },
     "metadata": {},
     "output_type": "display_data"
    },
    {
     "data": {
      "text/html": [
       "<pre style=\"white-space:pre;overflow-x:auto;line-height:normal;font-family:Menlo,'DejaVu Sans Mono',consolas,'Courier New',monospace\"></pre>\n"
      ],
      "text/plain": []
     },
     "metadata": {},
     "output_type": "display_data"
    },
    {
     "data": {
      "text/html": [
       "<div>\n",
       "<style scoped>\n",
       "    .dataframe tbody tr th:only-of-type {\n",
       "        vertical-align: middle;\n",
       "    }\n",
       "\n",
       "    .dataframe tbody tr th {\n",
       "        vertical-align: top;\n",
       "    }\n",
       "\n",
       "    .dataframe thead th {\n",
       "        text-align: right;\n",
       "    }\n",
       "</style>\n",
       "<table border=\"1\" class=\"dataframe\">\n",
       "  <thead>\n",
       "    <tr style=\"text-align: right;\">\n",
       "      <th></th>\n",
       "      <th>data</th>\n",
       "    </tr>\n",
       "  </thead>\n",
       "  <tbody>\n",
       "    <tr>\n",
       "      <th>0</th>\n",
       "      <td>-6.138245</td>\n",
       "    </tr>\n",
       "    <tr>\n",
       "      <th>1</th>\n",
       "      <td>-6.011216</td>\n",
       "    </tr>\n",
       "    <tr>\n",
       "      <th>2</th>\n",
       "      <td>-5.989384</td>\n",
       "    </tr>\n",
       "    <tr>\n",
       "      <th>3</th>\n",
       "      <td>-5.501985</td>\n",
       "    </tr>\n",
       "    <tr>\n",
       "      <th>4</th>\n",
       "      <td>-5.387518</td>\n",
       "    </tr>\n",
       "  </tbody>\n",
       "</table>\n",
       "</div>"
      ],
      "text/plain": [
       "\n",
       "       data\n",
       "\u001b[1;36m0\u001b[0m \u001b[1;36m-6.138245\u001b[0m\n",
       "\u001b[1;36m1\u001b[0m \u001b[1;36m-6.011216\u001b[0m\n",
       "\u001b[1;36m2\u001b[0m \u001b[1;36m-5.989384\u001b[0m\n",
       "\u001b[1;36m3\u001b[0m \u001b[1;36m-5.501985\u001b[0m\n",
       "\u001b[1;36m4\u001b[0m \u001b[1;36m-5.387518\u001b[0m"
      ]
     },
     "execution_count": 10,
     "metadata": {},
     "output_type": "execute_result"
    }
   ],
   "source": [
    "catalog.load(\"x_train\").head()"
   ]
  },
  {
   "cell_type": "code",
   "execution_count": 11,
   "id": "78e90274",
   "metadata": {},
   "outputs": [
    {
     "data": {
      "text/html": [
       "<pre style=\"white-space:pre;overflow-x:auto;line-height:normal;font-family:Menlo,'DejaVu Sans Mono',consolas,'Courier New',monospace\"><span style=\"color: #7fbfbf; text-decoration-color: #7fbfbf\">[12/18/24 00:18:55] </span><span style=\"color: #000080; text-decoration-color: #000080\">INFO    </span> Loading data from <span style=\"color: #ff8700; text-decoration-color: #ff8700\">x_train_sw</span> <span style=\"font-weight: bold\">(</span>CSVDataset<span style=\"font-weight: bold\">)</span><span style=\"color: #808000; text-decoration-color: #808000\">...</span>                       <a href=\"file:///Users/seba/Desktop/ts_encoding_decoding/ts-enc-dec/venv/lib/python3.11/site-packages/kedro/io/data_catalog.py\" target=\"_blank\"><span style=\"color: #7f7f7f; text-decoration-color: #7f7f7f\">data_catalog.py</span></a><span style=\"color: #7f7f7f; text-decoration-color: #7f7f7f\">:</span><a href=\"file:///Users/seba/Desktop/ts_encoding_decoding/ts-enc-dec/venv/lib/python3.11/site-packages/kedro/io/data_catalog.py#389\" target=\"_blank\"><span style=\"color: #7f7f7f; text-decoration-color: #7f7f7f\">389</span></a>\n",
       "</pre>\n"
      ],
      "text/plain": [
       "\u001b[2;36m[12/18/24 00:18:55]\u001b[0m\u001b[2;36m \u001b[0m\u001b[34mINFO    \u001b[0m Loading data from \u001b[38;5;208mx_train_sw\u001b[0m \u001b[1m(\u001b[0mCSVDataset\u001b[1m)\u001b[0m\u001b[33m...\u001b[0m                       \u001b]8;id=694938;file:///Users/seba/Desktop/ts_encoding_decoding/ts-enc-dec/venv/lib/python3.11/site-packages/kedro/io/data_catalog.py\u001b\\\u001b[2mdata_catalog.py\u001b[0m\u001b]8;;\u001b\\\u001b[2m:\u001b[0m\u001b]8;id=584192;file:///Users/seba/Desktop/ts_encoding_decoding/ts-enc-dec/venv/lib/python3.11/site-packages/kedro/io/data_catalog.py#389\u001b\\\u001b[2m389\u001b[0m\u001b]8;;\u001b\\\n"
      ]
     },
     "metadata": {},
     "output_type": "display_data"
    },
    {
     "data": {
      "text/html": [
       "<pre style=\"white-space:pre;overflow-x:auto;line-height:normal;font-family:Menlo,'DejaVu Sans Mono',consolas,'Courier New',monospace\"></pre>\n"
      ],
      "text/plain": []
     },
     "metadata": {},
     "output_type": "display_data"
    },
    {
     "data": {
      "text/html": [
       "<div>\n",
       "<style scoped>\n",
       "    .dataframe tbody tr th:only-of-type {\n",
       "        vertical-align: middle;\n",
       "    }\n",
       "\n",
       "    .dataframe tbody tr th {\n",
       "        vertical-align: top;\n",
       "    }\n",
       "\n",
       "    .dataframe thead th {\n",
       "        text-align: right;\n",
       "    }\n",
       "</style>\n",
       "<table border=\"1\" class=\"dataframe\">\n",
       "  <thead>\n",
       "    <tr style=\"text-align: right;\">\n",
       "      <th></th>\n",
       "      <th>data_1</th>\n",
       "      <th>data_2</th>\n",
       "      <th>data_3</th>\n",
       "      <th>data_4</th>\n",
       "      <th>data_5</th>\n",
       "    </tr>\n",
       "  </thead>\n",
       "  <tbody>\n",
       "    <tr>\n",
       "      <th>0</th>\n",
       "      <td>0.500000</td>\n",
       "      <td>0.754443</td>\n",
       "      <td>0.850725</td>\n",
       "      <td>0.748132</td>\n",
       "      <td>0.542295</td>\n",
       "    </tr>\n",
       "    <tr>\n",
       "      <th>1</th>\n",
       "      <td>0.754443</td>\n",
       "      <td>0.850725</td>\n",
       "      <td>0.748132</td>\n",
       "      <td>0.542295</td>\n",
       "      <td>0.375300</td>\n",
       "    </tr>\n",
       "    <tr>\n",
       "      <th>2</th>\n",
       "      <td>0.850725</td>\n",
       "      <td>0.748132</td>\n",
       "      <td>0.542295</td>\n",
       "      <td>0.375300</td>\n",
       "      <td>0.321804</td>\n",
       "    </tr>\n",
       "    <tr>\n",
       "      <th>3</th>\n",
       "      <td>0.748132</td>\n",
       "      <td>0.542295</td>\n",
       "      <td>0.375300</td>\n",
       "      <td>0.321804</td>\n",
       "      <td>0.350863</td>\n",
       "    </tr>\n",
       "    <tr>\n",
       "      <th>4</th>\n",
       "      <td>0.542295</td>\n",
       "      <td>0.375300</td>\n",
       "      <td>0.321804</td>\n",
       "      <td>0.350863</td>\n",
       "      <td>0.386943</td>\n",
       "    </tr>\n",
       "  </tbody>\n",
       "</table>\n",
       "</div>"
      ],
      "text/plain": [
       "\n",
       "     data_1    data_2    data_3    data_4    data_5\n",
       "\u001b[1;36m0\u001b[0m  \u001b[1;36m0.500000\u001b[0m  \u001b[1;36m0.754443\u001b[0m  \u001b[1;36m0.850725\u001b[0m  \u001b[1;36m0.748132\u001b[0m  \u001b[1;36m0.542295\u001b[0m\n",
       "\u001b[1;36m1\u001b[0m  \u001b[1;36m0.754443\u001b[0m  \u001b[1;36m0.850725\u001b[0m  \u001b[1;36m0.748132\u001b[0m  \u001b[1;36m0.542295\u001b[0m  \u001b[1;36m0.375300\u001b[0m\n",
       "\u001b[1;36m2\u001b[0m  \u001b[1;36m0.850725\u001b[0m  \u001b[1;36m0.748132\u001b[0m  \u001b[1;36m0.542295\u001b[0m  \u001b[1;36m0.375300\u001b[0m  \u001b[1;36m0.321804\u001b[0m\n",
       "\u001b[1;36m3\u001b[0m  \u001b[1;36m0.748132\u001b[0m  \u001b[1;36m0.542295\u001b[0m  \u001b[1;36m0.375300\u001b[0m  \u001b[1;36m0.321804\u001b[0m  \u001b[1;36m0.350863\u001b[0m\n",
       "\u001b[1;36m4\u001b[0m  \u001b[1;36m0.542295\u001b[0m  \u001b[1;36m0.375300\u001b[0m  \u001b[1;36m0.321804\u001b[0m  \u001b[1;36m0.350863\u001b[0m  \u001b[1;36m0.386943\u001b[0m"
      ]
     },
     "execution_count": 11,
     "metadata": {},
     "output_type": "execute_result"
    }
   ],
   "source": [
    "catalog.load(\"x_train_sw\").head()"
   ]
  },
  {
   "cell_type": "code",
   "execution_count": null,
   "id": "f616e91d",
   "metadata": {},
   "outputs": [],
   "source": []
  }
 ],
 "metadata": {
  "kernelspec": {
   "display_name": "venv",
   "language": "python",
   "name": "python3"
  },
  "language_info": {
   "codemirror_mode": {
    "name": "ipython",
    "version": 3
   },
   "file_extension": ".py",
   "mimetype": "text/x-python",
   "name": "python",
   "nbconvert_exporter": "python",
   "pygments_lexer": "ipython3",
   "version": "3.11.11"
  }
 },
 "nbformat": 4,
 "nbformat_minor": 5
}
