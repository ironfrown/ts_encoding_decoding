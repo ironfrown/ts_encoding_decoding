{
 "cells": [
  {
   "cell_type": "markdown",
   "id": "7f8adac8-a2a6-453c-aeb2-07c5f38c464a",
   "metadata": {},
   "source": [
    "# Data Generation: Simple Time Series\n",
    "Compatible with Qiskit 1.2.4+"
   ]
  },
  {
   "cell_type": "markdown",
   "id": "1eac9e4b-1e75-43e2-b2e9-bb147b32c9a0",
   "metadata": {},
   "source": [
    "### Author\n",
    "- **Jacob Cybulski**, jacob.cybulski[at]deakin.edu.au<br/>\n",
    "    School of IT, SEBE, Deakin University, Melbourne, Vic, Australia\n",
    "\n",
    "### Date\n",
    "- October 2022: Prepared for Workshop on Quantum Machine Learning, 13 October 2022, organised in collaboration with QWorld, QPoland, QIndia and Quantum AI Foundation. In association with IEEE Conference Trends in Quantum Computing and Emerging Business Technologies - TQCEBT 2022\n",
    "\n",
    "### Aims\n",
    "> *This script aims to create and save a simple time series, useful for curve fitting (no windows).*\n",
    "\n",
    "### Note\n",
    "> *<font color=\"tomato\">When running this script, you are likely to obtain slightly different results each time.</font>*"
   ]
  },
  {
   "cell_type": "code",
   "execution_count": 1,
   "id": "982d643d-cf9d-408f-8005-d0a5342ce9e7",
   "metadata": {},
   "outputs": [
    {
     "data": {
      "text/plain": [
       "['/home/jacob/miniconda3/envs/qiskit-gpu/lib/python311.zip',\n",
       " '/home/jacob/miniconda3/envs/qiskit-gpu/lib/python3.11',\n",
       " '/home/jacob/miniconda3/envs/qiskit-gpu/lib/python3.11/lib-dynload',\n",
       " '',\n",
       " '/home/jacob/miniconda3/envs/qiskit-gpu/lib/python3.11/site-packages',\n",
       " '.']"
      ]
     },
     "execution_count": 1,
     "metadata": {},
     "output_type": "execute_result"
    }
   ],
   "source": [
    "import sys\n",
    "sys.path.append('.')\n",
    "sys.path"
   ]
  },
  {
   "cell_type": "code",
   "execution_count": 2,
   "id": "8cc0053c-bd79-4162-a75c-6cccc3dc7c7c",
   "metadata": {},
   "outputs": [],
   "source": [
    "import os\n",
    "import numpy as np\n",
    "import math\n",
    "import argparse\n",
    "\n",
    "from utils.Target import *\n",
    "from utils.Charts import *\n",
    "from utils.Files import *\n",
    "\n",
    "import matplotlib.pyplot as plt\n",
    "from matplotlib import set_loglevel\n",
    "set_loglevel(\"error\")\n",
    "\n",
    "import warnings\n",
    "warnings.filterwarnings(\"ignore\", category=DeprecationWarning)"
   ]
  },
  {
   "cell_type": "markdown",
   "id": "ef0eb911-e52c-45c1-a6e0-c773a4db6c0a",
   "metadata": {},
   "source": [
    "## Set the program constants"
   ]
  },
  {
   "cell_type": "code",
   "execution_count": 3,
   "id": "9059a24b-d500-4131-8b07-a92e61530d14",
   "metadata": {},
   "outputs": [
    {
     "name": "stdout",
     "output_type": "stream",
     "text": [
      "\n",
      "Interactive execution started\n",
      "\n"
     ]
    }
   ],
   "source": [
    "### interactive control\n",
    "try:\n",
    "    __IPYTHON__\n",
    "    interactive = True\n",
    "    print(f'\\nInteractive execution started\\n')\n",
    "    get_ipython().run_line_magic('matplotlib', 'inline')\n",
    "except NameError:\n",
    "    interactive = False\n",
    "    print(f'\\nBatch execution started\\n')\n",
    "    \n",
    "### Software version\n",
    "MAJOR = 9\n",
    "MINOR = 0"
   ]
  },
  {
   "cell_type": "markdown",
   "id": "32ee7afc-d4e8-4b95-bc7b-f32d04d80b0b",
   "metadata": {},
   "source": [
    "## Set program parameters\n",
    "*Defaults are set here*"
   ]
  },
  {
   "cell_type": "code",
   "execution_count": 4,
   "id": "2ad35e2d-4303-4ed9-96c4-2230bc32287b",
   "metadata": {},
   "outputs": [],
   "source": [
    "### Constants\n",
    "LOG_NAME = 'log_test'\n",
    "DATA_NAME = '2_sins'\n",
    "FUN_NAME = 'Target_2_sins'\n",
    "\n",
    "### Data settings\n",
    "samples_train = 70\n",
    "samples_valid = 30\n",
    "noise = 0.0\n",
    "wind_size = 0\n",
    "wind_step = 0\n",
    "horizon = 0\n",
    "seed = 1410 # The Battle of Grunwald"
   ]
  },
  {
   "cell_type": "markdown",
   "id": "b9d15e8a-b5cf-48b2-beef-60bb811460a4",
   "metadata": {},
   "source": [
    "## Prepare data\n",
    "*Values need to be in [0, 1] range*"
   ]
  },
  {
   "cell_type": "code",
   "execution_count": 5,
   "id": "02b0f99c-9d53-4d01-8529-e8c4e4a8e8cc",
   "metadata": {},
   "outputs": [],
   "source": [
    "### Select a target class and its parameters (see: utils.py), e.g.\n",
    "#   Target_sin() # Target_2_sins() # Target_poly() # Target_poly_3()\n",
    "#   Target_line() # Target_line(slope=0.5, intercept=0.2, xmin=0, xmax=1.5)\n",
    "#   Target_trig_trend() # Target_jitter()\n",
    "#   Target_beer() # Target_beer(pt_from=104, pt_to=156)\n",
    "\n",
    "### Function to be used\n",
    "f = target_by_name(FUN_NAME)()\n",
    "\n",
    "### Data paths within a log file\n",
    "DATA_PATH = f'{LOG_NAME}/data'\n",
    "\n",
    "### Calculated values and functions\n",
    "samples = samples_train+samples_valid\n",
    "train_pc = samples_train / samples"
   ]
  },
  {
   "cell_type": "markdown",
   "id": "24fad063-6f38-410f-95e3-5a5aa0c5aaee",
   "metadata": {},
   "source": [
    "## Prepare a simple TS version of data\n",
    "*Values need to be in [0, 1] range*"
   ]
  },
  {
   "cell_type": "code",
   "execution_count": 6,
   "id": "32cf7853-ed2c-48d1-bd5a-e638784a4977",
   "metadata": {},
   "outputs": [
    {
     "name": "stdout",
     "output_type": "stream",
     "text": [
      "\n",
      "Created a data set \"Target_2_sins\": windows# train=70, valid=30, noise=0.0\n",
      "\n"
     ]
    }
   ],
   "source": [
    "### Use a function f to create a data set and its partitions for training and validation\n",
    "\n",
    "def ts_prep_data(f, samples=100, noise=0.0, train_pc=0.7, seed=1410):\n",
    "    # Create data points\n",
    "    X_all, y_all, X_train, y_train, X_valid, y_valid = \\\n",
    "        target_split(f, samples, noise=noise, train_pc=train_pc, seed=seed)\n",
    "    \n",
    "    return X_all, y_all, X_train_ts, y_train_ts, X_valid_ts, y_valid_ts\n",
    "\n",
    "if interactive:\n",
    "    X_all, y_all, X_train, y_train, X_valid, y_valid = \\\n",
    "        target_split(f, samples, noise=noise, train_pc=train_pc, seed=seed)\n",
    "    print(f'\\nCreated a data set \"{f.name}\": windows# train={len(y_train)}, valid={len(y_valid)}, noise={noise}\\n')\n"
   ]
  },
  {
   "cell_type": "code",
   "execution_count": 7,
   "id": "47e29017-f7eb-4fb4-8fcb-4485ab1987fa",
   "metadata": {},
   "outputs": [
    {
     "name": "stdout",
     "output_type": "stream",
     "text": [
      "\n",
      "Unique DATA_ID = \"2_sins_t70_v30_z0.0_w0_s0_h0\"\n",
      "\n"
     ]
    }
   ],
   "source": [
    "### All created files have the following codes:\n",
    "#   t: training sample size\n",
    "#   v: validation sample size\n",
    "#   z: level of noise injected = 0\n",
    "#   w: window size = 0\n",
    "#   s: window step size = 0\n",
    "#   h: horizon size = 0\n",
    "def ts_data_id(data_name, samples_train, samples_valid, noise=0.0):\n",
    "    return f'{data_name}_t{samples_train}_v{samples_valid}_z{noise}_w{0}_s{0}_h{0}'\n",
    "\n",
    "if interactive:\n",
    "    DATA_ID = ts_data_id(DATA_NAME, samples_train, samples_valid, noise=noise)\n",
    "    print(f'\\nUnique DATA_ID = \"{DATA_ID}\"\\n')\n"
   ]
  },
  {
   "cell_type": "markdown",
   "id": "07c716c6-2fe6-4926-8973-dd60ab18a9f4",
   "metadata": {},
   "source": [
    "## Test plot the data"
   ]
  },
  {
   "cell_type": "code",
   "execution_count": 8,
   "id": "d5c91dbb-96cd-4c10-898f-93c6677870ab",
   "metadata": {},
   "outputs": [
    {
     "data": {
      "image/png": "[encoded data removed]",
      "text/plain": [
       "<Figure size 864x432 with 1 Axes>"
      ]
     },
     "metadata": {},
     "output_type": "display_data"
    }
   ],
   "source": [
    "if interactive:\n",
    "\n",
    "    ### Plot data\n",
    "    plot_train_and_test_data(\n",
    "        X_all, y_all, X_train, y_train, X_valid, y_valid,\n",
    "        xlim=(-6.7, 6.7), ylim=(0.05, 1),\n",
    "        colors=['lightblue', 'blue', 'red', 'blue', 'red'], linestyles=['dashed', 'solid', 'solid'],\n",
    "        title=f'Dataset for curve fitting (\"{DATA_NAME}\" data, with {samples} samples, {samples_train}-{samples_valid} split)',\n",
    "    )"
   ]
  },
  {
   "cell_type": "markdown",
   "id": "bbccb0b2-5db8-40fd-9369-2d5a962d20e3",
   "metadata": {},
   "source": [
    "## Save created data"
   ]
  },
  {
   "cell_type": "code",
   "execution_count": 9,
   "id": "284e28e8-937d-4639-9adf-fb9b65eba3ba",
   "metadata": {},
   "outputs": [
    {
     "name": "stdout",
     "output_type": "stream",
     "text": [
      "\n",
      "Saved time series data in: \"log_test/data/2_sins_t70_v30_z0.0_w0_s0_h0\"\n",
      "\n"
     ]
    }
   ],
   "source": [
    "### Save a data set\n",
    "def ts_save_dataset(dpath, did,\n",
    "                    X_all, y_all, X_train, y_train, X_valid, y_valid):\n",
    "\n",
    "    ### Define file paths\n",
    "    x_all_fpath = f'{dpath}/{did}/x_all.arr'\n",
    "    y_all_fpath = f'{dpath}/{did}/y_all.arr'\n",
    "    \n",
    "    x_train_fpath = f'{dpath}/{did}/x_train.arr'\n",
    "    y_train_fpath = f'{dpath}/{did}/y_train.arr'\n",
    "    x_valid_fpath = f'{dpath}/{did}/x_valid.arr'\n",
    "    y_valid_fpath = f'{dpath}/{did}/y_valid.arr'\n",
    "\n",
    "    ### Save a data set and its partitions\n",
    "    write_ts_file(x_all_fpath, X_all)\n",
    "    write_ts_file(y_all_fpath, y_all)\n",
    "    write_ts_file(x_train_fpath, X_train)\n",
    "    write_ts_file(y_train_fpath, y_train)\n",
    "    write_ts_file(x_valid_fpath, X_valid)\n",
    "    write_ts_file(y_valid_fpath, y_valid)\n",
    "\n",
    "if interactive:\n",
    "    ts_save_dataset(DATA_PATH, DATA_ID,\n",
    "                    X_all, y_all, X_train, y_train, X_valid, y_valid)\n",
    "    print(f'\\nSaved time series data in: \"{DATA_PATH}/{DATA_ID}\"\\n')\n"
   ]
  },
  {
   "cell_type": "code",
   "execution_count": 10,
   "id": "d3af7b1e-a187-49af-9372-97aa83488505",
   "metadata": {},
   "outputs": [
    {
     "name": "stdout",
     "output_type": "stream",
     "text": [
      "\n",
      "Saved time series info in file \"log_test/data/2_sins_t70_v30_z0.0_w0_s0_h0/info.json\":\n",
      "\n",
      "\tinfo[data_name] = 2_sins\n",
      "\tinfo[major_version] = 9\n",
      "\tinfo[minor_version] = 0\n",
      "\tinfo[data_train] = 70\n",
      "\tinfo[data_valid] = 30\n",
      "\tinfo[data_noise] = 0.0\n",
      "\tinfo[wind_size] = 0\n",
      "\tinfo[wind_step] = 0\n",
      "\tinfo[wind_horizon] = 0\n",
      "\tinfo[seed] = 1410\n",
      "\n"
     ]
    }
   ],
   "source": [
    "### Save info details\n",
    "def ts_save_dataset_info(dpath, did, data_name,\n",
    "    samples_train, samples_valid, noise, seed=2024):\n",
    "    global MAJOR, MINOR\n",
    "    \n",
    "    ### Define an info path\n",
    "    data_info_fpath = f'{dpath}/{did}/info.json'\n",
    "    \n",
    "    ### Save data info details\n",
    "    data_info = \\\n",
    "        {'data_name':data_name, \n",
    "         'major_version':MAJOR, \n",
    "         'minor_version':MINOR,\n",
    "         'data_train':samples_train,\n",
    "         'data_valid':samples_valid,\n",
    "         'data_noise':noise,\n",
    "         'wind_size':0,\n",
    "         'wind_step':0,\n",
    "         'wind_horizon':0,\n",
    "         'seed':seed}\n",
    "    \n",
    "    ### Saving the info file\n",
    "    write_json_file(data_info_fpath, data_info)\n",
    "\n",
    "    return data_info, data_info_fpath\n",
    "\n",
    "if interactive:\n",
    "    data_info, info_fpath = ts_save_dataset_info(DATA_PATH, DATA_ID, DATA_NAME,\n",
    "        samples_train, samples_valid, noise, seed=seed)\n",
    "    print(f'\\nSaved time series info in file \"{info_fpath}\":\\n')\n",
    "    for k in data_info.keys():\n",
    "        print(f'\\tinfo[{k}] = {data_info[k]}')\n",
    "    print()\n"
   ]
  },
  {
   "cell_type": "markdown",
   "id": "d4968c63-9ac0-4d70-8b8e-95e0501342a4",
   "metadata": {},
   "source": [
    "## System details"
   ]
  },
  {
   "cell_type": "code",
   "execution_count": 11,
   "id": "932a85ec-3554-429f-81fa-76d335d16717",
   "metadata": {},
   "outputs": [
    {
     "name": "stdout",
     "output_type": "stream",
     "text": [
      "Environment:\n",
      "\n",
      "/home/jacob/miniconda3/envs/qiskit-gpu\n",
      "\n"
     ]
    }
   ],
   "source": [
    "import sys\n",
    "print(f'Environment:\\n\\n{sys.prefix}\\n')"
   ]
  },
  {
   "cell_type": "code",
   "execution_count": 12,
   "id": "143ddb0d-afec-477b-ba7f-5a15dce4e9eb",
   "metadata": {},
   "outputs": [
    {
     "name": "stdout",
     "output_type": "stream",
     "text": [
      "Significant packages:\n",
      "\n",
      "qiskit                    1.2.4\n",
      "qiskit-aer-gpu            0.15.1\n",
      "qiskit-algorithms         0.3.1\n",
      "qiskit-ibm-runtime        0.32.0\n",
      "qiskit-machine-learning   0.7.2\n",
      "qiskit-optimization       0.6.1\n"
     ]
    }
   ],
   "source": [
    "import os\n",
    "print(f\"Significant packages:\\n\")\n",
    "os.system('pip list | grep -e qiskit -e torch');"
   ]
  },
  {
   "cell_type": "markdown",
   "id": "41a69ad7-cc94-4527-b823-6d88ff8a4a46",
   "metadata": {},
   "source": [
    "## Main"
   ]
  },
  {
   "cell_type": "code",
   "execution_count": 13,
   "id": "76e8ab28-83c9-44fa-8072-0bb45d27f099",
   "metadata": {},
   "outputs": [],
   "source": [
    "### Fetch all program parameters\n",
    "#   log: Log name\n",
    "#   -d --data: Data name\n",
    "#   -f --fun: Function names\n",
    "#   -sn --samples: sample size\n",
    "#   -st --tsamples: training samples\n",
    "#   -sv --vsamples: validation samples\n",
    "#   -z: level of noise injected\n",
    "#   -rs --seed: random seed\n",
    "\n",
    "def sw_get_vars():\n",
    "    global LOG_NAME, DATA_NAME, FUN_NAME, DATA_PATH\n",
    "    global samples, samples_train, samples_valid, train_pc, noise\n",
    "    global wind_size, wind_step, horizon\n",
    "    global f, seed\n",
    "\n",
    "    parser = argparse.ArgumentParser()\n",
    "    parser.add_argument(\"log\", type=str, help=\"log relative path\")\n",
    "    parser.add_argument(\"-d\", \"--data\", type=str, help=\"data name\", default=\"sin\")\n",
    "    parser.add_argument(\"-f\", \"--fun\", type=str, help=\"name of generating function\", default=\"Target_sin\")\n",
    "    parser.add_argument(\"-sn\", \"--samples\", type=int, help=\"sample size\", default=100)\n",
    "    parser.add_argument(\"-st\", \"--tsamples\", type=int, help=\"size of training sample\", default=70)\n",
    "    parser.add_argument(\"-sv\", \"--vsamples\", type=int, help=\"size of validation sample\", default=30)\n",
    "    parser.add_argument(\"-pcs\", \"--split\", type=float, help=\"percentage split\", default=0.7)\n",
    "    parser.add_argument(\"-z\", \"--noise\", type=float, help=\"noise level\", default=0.0)\n",
    "    parser.add_argument(\"-rs\", \"--seed\", type=int, help=\"random seed\", default=2024)\n",
    "\n",
    "    args = parser.parse_args()\n",
    "    \n",
    "    return args"
   ]
  },
  {
   "cell_type": "code",
   "execution_count": 14,
   "id": "575033cd-f864-4ec2-9d65-7d6e6a816f84",
   "metadata": {},
   "outputs": [],
   "source": [
    "### Main function, executed in batch mode only\n",
    "\n",
    "def main():\n",
    "    global LOG_NAME, DATA_NAME, FUN_NAME, DATA_PATH\n",
    "    global samples, samples_train, samples_valid, train_pc, noise\n",
    "    global wind_size, wind_step, horizon\n",
    "    global f, seed\n",
    "\n",
    "    ### Execute the process\n",
    "    print(f'\\nSteps taken:')\n",
    "\n",
    "    ### Create a data set\n",
    "    X_all, y_all, X_train, y_train, X_valid, y_valid = \\\n",
    "        target_split(f, samples, noise=noise, train_pc=train_pc, seed=seed)\n",
    "    print(f'\\n1. Created a data set \"{f.name}\": windows# train={len(y_train)}, valid={len(y_valid)}, noise={noise}\\n')\n",
    "\n",
    "    ### Create a unique data ID\n",
    "    DATA_ID = ts_data_id(DATA_NAME, samples_train, samples_valid, noise=noise)\n",
    "    print(f'\\n2. Unique DATA_ID = \"{DATA_ID}\"\\n')\n",
    "\n",
    "    ### Save a dataset\n",
    "    ts_save_dataset(DATA_PATH, DATA_ID,\n",
    "        X_all, y_all, X_train, y_train, X_valid, y_valid)\n",
    "    print(f'\\n3. Saved time series data in: \"{DATA_PATH}/{DATA_ID}\"\\n')\n",
    "\n",
    "    ### Save dataset info\n",
    "    data_info, info_fpath = ts_save_dataset_info(DATA_PATH, DATA_ID, DATA_NAME,\n",
    "        samples_train, samples_valid, noise, seed=seed)\n",
    "    print(f'\\n4. Saved time series info in file \"{info_fpath}\":\\n')\n",
    "    for k in data_info.keys():\n",
    "        print(f'\\tinfo[{k}] = {data_info[k]}')\n",
    "    print()\n"
   ]
  },
  {
   "cell_type": "code",
   "execution_count": 15,
   "id": "c2dc885d-3a9d-488a-8851-21e18d856f36",
   "metadata": {},
   "outputs": [],
   "source": [
    "### Execute the process\n",
    "if not interactive:\n",
    "\n",
    "    ## Get external variables\n",
    "    args = sw_get_vars()\n",
    "\n",
    "    ## Assign locals vars\n",
    "    LOG_NAME = args.log\n",
    "    DATA_NAME = args.data\n",
    "    FUN_NAME = args.fun\n",
    "    DATA_PATH = f'{LOG_NAME}/data'\n",
    "\n",
    "    ## Get the windows parameters\n",
    "    samples_train = args.tsamples\n",
    "    samples_valid = args.vsamples\n",
    "    noise = args.noise\n",
    "    wind_size = 0\n",
    "    wind_step = 0\n",
    "    horizon = 0\n",
    "    seed = args.seed\n",
    "\n",
    "    ## Calculate important vars\n",
    "    samples = samples_train+samples_valid\n",
    "    train_pc = samples_train / samples\n",
    "    f = target_by_name(FUN_NAME)()\n",
    "\n",
    "    main()"
   ]
  }
 ],
 "metadata": {
  "kernelspec": {
   "display_name": "Python 3 (ipykernel)",
   "language": "python",
   "name": "python3"
  },
  "language_info": {
   "codemirror_mode": {
    "name": "ipython",
    "version": 3
   },
   "file_extension": ".py",
   "mimetype": "text/x-python",
   "name": "python",
   "nbconvert_exporter": "python",
   "pygments_lexer": "ipython3",
   "version": "3.11.10"
  }
 },
 "nbformat": 4,
 "nbformat_minor": 5
}
