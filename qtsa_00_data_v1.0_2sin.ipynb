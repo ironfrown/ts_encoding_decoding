{
 "cells": [
  {
   "cell_type": "markdown",
   "id": "7f8adac8-a2a6-453c-aeb2-07c5f38c464a",
   "metadata": {},
   "source": [
    "# Data Generation: Simple Time Series\n",
    "Compatible with Qiskit 1.2.4+"
   ]
  },
  {
   "cell_type": "markdown",
   "id": "1eac9e4b-1e75-43e2-b2e9-bb147b32c9a0",
   "metadata": {},
   "source": [
    "### Author\n",
    "- **Jacob Cybulski**, jacob.cybulski[at]deakin.edu.au<br/>\n",
    "    School of IT, SEBE, Deakin University, Melbourne, Vic, Australia\n",
    "\n",
    "### Date\n",
    "- October 2022: Prepared for Workshop on Quantum Machine Learning, 13 October 2022, organised in collaboration with QWorld, QPoland, QIndia and Quantum AI Foundation. In association with IEEE Conference Trends in Quantum Computing and Emerging Business Technologies - TQCEBT 2022\n",
    "- May 2024: Compatibility upgrade to Qiskit 1.02 \n",
    "\n",
    "### Aims\n",
    "> *This script aims to create and save a data set.*\n",
    "\n",
    "### Note\n",
    "> *<font color=\"tomato\">When running this script, you are likely to obtain slightly different results each time.</font>*"
   ]
  },
  {
   "cell_type": "code",
   "execution_count": 1,
   "id": "982d643d-cf9d-408f-8005-d0a5342ce9e7",
   "metadata": {},
   "outputs": [
    {
     "data": {
      "text/plain": [
       "['/home/jacob/miniconda3/envs/qiskit-gpu/lib/python311.zip',\n",
       " '/home/jacob/miniconda3/envs/qiskit-gpu/lib/python3.11',\n",
       " '/home/jacob/miniconda3/envs/qiskit-gpu/lib/python3.11/lib-dynload',\n",
       " '',\n",
       " '/home/jacob/miniconda3/envs/qiskit-gpu/lib/python3.11/site-packages',\n",
       " '.']"
      ]
     },
     "execution_count": 1,
     "metadata": {},
     "output_type": "execute_result"
    }
   ],
   "source": [
    "import sys\n",
    "sys.path.append('.')\n",
    "sys.path"
   ]
  },
  {
   "cell_type": "code",
   "execution_count": 2,
   "id": "8cc0053c-bd79-4162-a75c-6cccc3dc7c7c",
   "metadata": {},
   "outputs": [],
   "source": [
    "import os\n",
    "import numpy as np\n",
    "import pylab\n",
    "import math\n",
    "import json\n",
    "import time\n",
    "import warnings\n",
    "\n",
    "from IPython.display import clear_output\n",
    "from qiskit_algorithms.utils import algorithm_globals\n",
    "\n",
    "from utils.Target import *\n",
    "from utils.Charts import *\n",
    "from utils.Files import *\n",
    "\n",
    "import matplotlib.pyplot as plt\n",
    "from matplotlib import set_loglevel\n",
    "set_loglevel(\"error\")\n",
    "%matplotlib inline"
   ]
  },
  {
   "cell_type": "code",
   "execution_count": 3,
   "id": "9059a24b-d500-4131-8b07-a92e61530d14",
   "metadata": {},
   "outputs": [
    {
     "data": {
      "text/plain": [
       "('log_2',\n",
       " 'serial',\n",
       " '2_sins',\n",
       " 'log_2/data',\n",
       " 'log_2/training',\n",
       " 'log_2/params',\n",
       " 'log_2/analysis',\n",
       " 'log_2/figures')"
      ]
     },
     "execution_count": 3,
     "metadata": {},
     "output_type": "execute_result"
    }
   ],
   "source": [
    "### Listing control\n",
    "debug = True\n",
    "\n",
    "### Software version\n",
    "MAJOR = 8\n",
    "MINOR = 10\n",
    "\n",
    "### Constants\n",
    "LOG_NAME = 'log_2'\n",
    "CASE_NAME = 'serial'\n",
    "DATA_NAME = '2_sins'\n",
    "DATA_PATH = f'{LOG_NAME}/data'\n",
    "TRAIN_PATH = f'{LOG_NAME}/training'\n",
    "PARAMS_PATH = f'{LOG_NAME}/params'\n",
    "ANALYSIS_PATH = f'{LOG_NAME}/analysis'\n",
    "FIGURES_PATH = f'{LOG_NAME}/figures'\n",
    "\n",
    "### Show constants\n",
    "(LOG_NAME, CASE_NAME, DATA_NAME,DATA_PATH, TRAIN_PATH, PARAMS_PATH, ANALYSIS_PATH, FIGURES_PATH)"
   ]
  },
  {
   "cell_type": "markdown",
   "id": "99c7a769-2347-4c20-b680-b30ec4539028",
   "metadata": {},
   "source": [
    "## Utils"
   ]
  },
  {
   "cell_type": "code",
   "execution_count": 4,
   "id": "dfe508ed-7ba1-4700-94d2-eaa061f42cfe",
   "metadata": {},
   "outputs": [],
   "source": [
    "### Define a target function params\n",
    "def target_split(f, samples, noise=0, train_pc=0.7, seed=None):\n",
    "    \n",
    "    if seed is not None: algorithm_globals.random_seed = seed\n",
    "    samples_train = int(samples * train_pc)\n",
    "    samples_valid = samples-samples_train\n",
    "        \n",
    "    lb, ub = f.xrange()\n",
    "    lb_train, ub_train = lb, lb+train_pc*(ub - lb)\n",
    "    lb_valid, ub_valid = lb+train_pc*(ub - lb), ub\n",
    "    T = (ub - lb)\n",
    "    \n",
    "    ### Prepare all X and y data\n",
    "    X_all = np.linspace(lb, ub, num=samples)\n",
    "    y_all = f.fun(X_all)\n",
    "    \n",
    "    ### Some of these are legacy\n",
    "    X_train = (ub_train - lb_train) * algorithm_globals.random.random(samples_train) + lb_train\n",
    "    X_train = np.sort(X_train, axis = 0)\n",
    "    y_train = f.fun(X_train) + noise * (algorithm_globals.random.random(samples_train) - 0.5)\n",
    "    X_valid = (ub_valid - lb_valid) * algorithm_globals.random.random(samples_valid) + lb_valid\n",
    "    X_valid = np.sort(X_valid, axis = 0)\n",
    "    y_valid = f.fun(X_valid) + noise * (algorithm_globals.random.random(samples_valid) - 0.5)\n",
    "    \n",
    "    ### Reshape Xs for fitting, scoring and prediction\n",
    "    X_all = X_all.reshape(samples, 1)\n",
    "    X_train = X_train.reshape(samples_train, 1)\n",
    "    X_valid = X_valid.reshape(samples_valid, 1)\n",
    "\n",
    "    return X_all, y_all, X_train, y_train, X_valid, y_valid"
   ]
  },
  {
   "cell_type": "markdown",
   "id": "b9d15e8a-b5cf-48b2-beef-60bb811460a4",
   "metadata": {},
   "source": [
    "## Prepare data\n",
    "*Values need to be in [0, 1] range*"
   ]
  },
  {
   "cell_type": "code",
   "execution_count": 5,
   "id": "02b0f99c-9d53-4d01-8529-e8c4e4a8e8cc",
   "metadata": {},
   "outputs": [],
   "source": [
    "### Start random process\n",
    "\n",
    "seed = 1770 # Cook charted Eastern Australia\n",
    "algorithm_globals.random_seed = seed\n",
    "\n",
    "### Data settings\n",
    "samples_train = 50\n",
    "samples_valid = 20\n",
    "samples = samples_train+samples_valid\n",
    "train_pc = samples_train / samples\n",
    "noise = 0.0\n",
    "\n",
    "### Define the time series parameters\n",
    "#   wind_size: sliding window size (which may be the same as number of qubits)\n",
    "#   horizon:   the number of time events to look ahead (to forecast)\n",
    "wind_size = 0\n",
    "wind_step = 0\n",
    "horizon = 0\n",
    "\n",
    "### Select a target class and its parameters (see: utils.py), e.g.\n",
    "#   Target_sin() # Target_2_sins() # Target_poly() # Target_poly_3()\n",
    "#   Target_line() # Target_line(slope=0.5, intercept=0.2, xmin=0, xmax=1.5)\n",
    "#   Target_trig_trend() # Target_jitter()\n",
    "#   Target_beer() # Target_beer(pt_from=104, pt_to=156)\n",
    "\n",
    "f = Target_2_sins()\n",
    "\n",
    "### Collect target function parameters\n",
    "lb, ub = f.xrange()\n",
    "lb_train, ub_train = lb, lb+train_pc*(ub - lb)\n",
    "lb_valid, ub_valid = lb+train_pc*(ub - lb), ub\n",
    "T   = (ub - lb)\n",
    "\n",
    "### Prepare all X and y data\n",
    "X_all   = np.linspace(lb, ub, num=samples)\n",
    "y_all   = f.fun(X_all)\n",
    "X_train = (ub_train - lb_train) * algorithm_globals.random.random(samples_train) + lb_train\n",
    "X_train = np.sort(X_train, axis = 0)\n",
    "y_train = f.fun(X_train) + noise * (algorithm_globals.random.random(samples_train) - 0.5)\n",
    "X_valid = (ub_valid - lb_valid) * algorithm_globals.random.random(samples_valid) + lb_valid\n",
    "X_valid = np.sort(X_valid, axis = 0)\n",
    "y_valid = f.fun(X_valid) + noise * (algorithm_globals.random.random(samples_valid) - 0.5)\n",
    "\n",
    "### Reshape Xs for fitting, scoring and prediction\n",
    "X_all   = X_all.reshape(samples, 1)\n",
    "X_train = X_train.reshape(samples_train, 1)\n",
    "X_valid = X_valid.reshape(samples_valid, 1)"
   ]
  },
  {
   "cell_type": "code",
   "execution_count": 6,
   "id": "47e29017-f7eb-4fb4-8fcb-4485ab1987fa",
   "metadata": {},
   "outputs": [
    {
     "data": {
      "text/plain": [
       "'2_sins_t50_v20_z0.0_w0_s0_h0'"
      ]
     },
     "execution_count": 6,
     "metadata": {},
     "output_type": "execute_result"
    }
   ],
   "source": [
    "### All created files have the following codes:\n",
    "#   t: training sample size\n",
    "#   v: validation sample size\n",
    "#   z: level of noise injected\n",
    "#   w: window size\n",
    "#   s: window step size\n",
    "#   h: horizon size\n",
    "DATA_PREF = f'{DATA_NAME}_t{samples_train}_v{samples_valid}_z{noise}_w{wind_size}_s{wind_step}_h{horizon}'\n",
    "DATA_PREF"
   ]
  },
  {
   "cell_type": "code",
   "execution_count": 7,
   "id": "29729e3a-28ab-491f-8092-5638cce17493",
   "metadata": {},
   "outputs": [
    {
     "data": {
      "image/png": "[encoded data removed]",
      "text/plain": [
       "<Figure size 864x432 with 1 Axes>"
      ]
     },
     "metadata": {},
     "output_type": "display_data"
    }
   ],
   "source": [
    "### Plot data\n",
    "plot_train_and_test_data(\n",
    "    X_all, y_all, X_train, y_train, X_valid, y_valid,\n",
    "    xlim=(lb, ub), ylim=(0.05, 1),\n",
    "    colors=['lightblue', 'blue', 'red', 'blue', 'red'], linestyles=['dashed', 'solid', 'solid'],\n",
    "    title=f'Target function with noisy data (\"{CASE_NAME}\" case, with {samples} samples)',\n",
    "    save_plot=f'{FIGURES_PATH}/data_{DATA_PREF}/train_and_valid.eps')"
   ]
  },
  {
   "cell_type": "code",
   "execution_count": 8,
   "id": "5f0d0720-0bcb-4684-a610-ccc1d2556097",
   "metadata": {},
   "outputs": [
    {
     "name": "stdout",
     "output_type": "stream",
     "text": [
      "X all: [[-6.28318531]\n",
      " [-6.10106399]\n",
      " [-5.91894268]\n",
      " [-5.73682137]\n",
      " [-5.55470005]]\n",
      "y all: [0.5        0.82166007 0.7704136  0.48181766 0.32499393]\n"
     ]
    }
   ],
   "source": [
    "print(f'X all: {X_all[0:5]}')\n",
    "print(f'y all: {y_all[0:5]}')"
   ]
  },
  {
   "cell_type": "code",
   "execution_count": 9,
   "id": "52c4e8f4-0ff0-4153-b4ac-f03eed4a47bd",
   "metadata": {},
   "outputs": [
    {
     "name": "stdout",
     "output_type": "stream",
     "text": [
      "X train: [[-6.27373457]\n",
      " [-6.20947158]\n",
      " [-5.9566835 ]\n",
      " [-5.83126426]\n",
      " [-5.75681718]]\n",
      "y train: [0.52125077 0.65958512 0.81267027 0.63596974 0.51237903]\n"
     ]
    }
   ],
   "source": [
    "print(f'X train: {X_train[0:5]}')\n",
    "print(f'y train: {y_train[0:5]}')"
   ]
  },
  {
   "cell_type": "markdown",
   "id": "bbccb0b2-5db8-40fd-9369-2d5a962d20e3",
   "metadata": {},
   "source": [
    "## Save training data"
   ]
  },
  {
   "cell_type": "code",
   "execution_count": 10,
   "id": "284e28e8-937d-4639-9adf-fb9b65eba3ba",
   "metadata": {},
   "outputs": [
    {
     "data": {
      "text/plain": [
       "'log_2/data/2_sins_t50_v20_z0.0_w0_s0_h0/info.json'"
      ]
     },
     "execution_count": 10,
     "metadata": {},
     "output_type": "execute_result"
    }
   ],
   "source": [
    "### Define file names\n",
    "\n",
    "x_all_fpath = f'{DATA_PATH}/{DATA_PREF}/x_all.arr'\n",
    "y_all_fpath = f'{DATA_PATH}/{DATA_PREF}/y_all.arr'\n",
    "\n",
    "x_train_fpath = f'{DATA_PATH}/{DATA_PREF}/x_train.arr'\n",
    "y_train_fpath = f'{DATA_PATH}/{DATA_PREF}/y_train.arr'\n",
    "x_valid_fpath = f'{DATA_PATH}/{DATA_PREF}/x_valid.arr'\n",
    "y_valid_fpath = f'{DATA_PATH}/{DATA_PREF}/y_valid.arr'\n",
    "\n",
    "data_info_fpath = f'{DATA_PATH}/{DATA_PREF}/info.json'\n",
    "data_info_fpath"
   ]
  },
  {
   "cell_type": "code",
   "execution_count": 11,
   "id": "d3af7b1e-a187-49af-9372-97aa83488505",
   "metadata": {},
   "outputs": [
    {
     "name": "stdout",
     "output_type": "stream",
     "text": [
      "\n",
      "Saved time series info in file \"log_2/data/2_sins_t50_v20_z0.0_w0_s0_h0/info.json\":\n",
      "\n",
      "\tinfo[data_name] = 2_sins\n",
      "\tinfo[major_version] = 8\n",
      "\tinfo[minor_version] = 10\n",
      "\tinfo[data_train] = 50\n",
      "\tinfo[data_valid] = 20\n",
      "\tinfo[data_noise] = 0.0\n",
      "\tinfo[wind_size] = 0\n",
      "\tinfo[wind_step] = 0\n",
      "\tinfo[wind_horizon] = 0\n",
      "\tinfo[seed] = 1770\n",
      "\n"
     ]
    }
   ],
   "source": [
    "## Save training parameters\n",
    "### Save info details\n",
    "data_info = \\\n",
    "    {'data_name':DATA_NAME, \n",
    "     'major_version':MAJOR, \n",
    "     'minor_version':MINOR,\n",
    "     'data_train':samples_train,\n",
    "     'data_valid':samples_valid,\n",
    "     'data_noise':noise,\n",
    "     'wind_size':wind_size,\n",
    "     'wind_step':wind_step,\n",
    "     'wind_horizon':horizon,\n",
    "     'seed':seed}\n",
    "\n",
    "### Saving the info file\n",
    "write_json_file(data_info_fpath, data_info)\n",
    "    \n",
    "print(f'\\nSaved time series info in file \"{data_info_fpath}\":\\n')\n",
    "for k in data_info.keys():\n",
    "    print(f'\\tinfo[{k}] = {data_info[k]}')\n",
    "print()"
   ]
  },
  {
   "cell_type": "code",
   "execution_count": 12,
   "id": "1dabccbd-bad5-4856-b5a6-2ae1d1258fad",
   "metadata": {},
   "outputs": [
    {
     "name": "stdout",
     "output_type": "stream",
     "text": [
      "\n",
      "Saved time series data\n",
      "\n"
     ]
    }
   ],
   "source": [
    "### Save the history file\n",
    "write_ts_file(x_all_fpath, X_all)\n",
    "write_ts_file(y_all_fpath, y_all)\n",
    "write_ts_file(x_train_fpath, X_train)\n",
    "write_ts_file(y_train_fpath, y_train)\n",
    "write_ts_file(x_valid_fpath, X_valid)\n",
    "write_ts_file(y_valid_fpath, y_valid)\n",
    "print(f'\\nSaved time series data\\n')"
   ]
  },
  {
   "cell_type": "markdown",
   "id": "d4968c63-9ac0-4d70-8b8e-95e0501342a4",
   "metadata": {},
   "source": [
    "## System details"
   ]
  },
  {
   "cell_type": "code",
   "execution_count": 13,
   "id": "143ddb0d-afec-477b-ba7f-5a15dce4e9eb",
   "metadata": {},
   "outputs": [
    {
     "name": "stdout",
     "output_type": "stream",
     "text": [
      "qiskit                    1.2.4\n",
      "qiskit-aer-gpu            0.15.1\n",
      "qiskit-algorithms         0.3.1\n",
      "qiskit-ibm-runtime        0.32.0\n",
      "qiskit-machine-learning   0.7.2\n",
      "qiskit-optimization       0.6.1\n"
     ]
    }
   ],
   "source": [
    "!pip list | grep -e qiskit -e torch"
   ]
  }
 ],
 "metadata": {
  "kernelspec": {
   "display_name": "Python 3 (ipykernel)",
   "language": "python",
   "name": "python3"
  },
  "language_info": {
   "codemirror_mode": {
    "name": "ipython",
    "version": 3
   },
   "file_extension": ".py",
   "mimetype": "text/x-python",
   "name": "python",
   "nbconvert_exporter": "python",
   "pygments_lexer": "ipython3",
   "version": "3.11.10"
  }
 },
 "nbformat": 4,
 "nbformat_minor": 5
}
